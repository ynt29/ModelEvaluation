{
 "cells": [
  {
   "cell_type": "markdown",
   "metadata": {},
   "source": [
    "# การประเมิน Model (Model Evaluation)\n",
    "เกี่ยวข้องกับการทดสอบหรือประเมินประสิทธิภาพความแม่นยำ Model สำหรับระบบ ML แบบ Classification"
   ]
  },
  {
   "cell_type": "raw",
   "metadata": {},
   "source": [
    "Confusion Matrix\n",
    "เป็นตารางที่ใช้ประเมินผลลัพธ์การทำนาย หรือผลลัพธ์จากโปรแกรม (Prediction) เปรียบเทียบกับค่าจริง ๆ (Actual) ของมัน"
   ]
  },
  {
   "cell_type": "raw",
   "metadata": {},
   "source": [
    "ตัวอย่าง Confusion Matrix\n",
    "ระบบ Classification ที่แยกแยะได้ Output 2 กลุ่ม (เรียกว่า 2 Class หรือ Binary Classification) เช่น Yes/No หรื อ0/1 \n",
    "ตาราง Confusion Matrix จะได้ตาราง 2*2 \n",
    "แต่ถ้าเป็นระบบ 3 Class จะเป็นตาราง 3*3\n",
    "\n",
    "แต่ละช่องของตาราง สำหรับใส่จำนวน ผลลัพธ์ที่ได้จาก การทำนาย และ ค่าของจริง นั่นคือต้องผ่านการทำนายแล้ว(Predicted) ได้ผลลัพธ์แล้ว ก็นำจำนวนผลลัพธ์ที่ได้จากการทำนายและของจริงมากรอกลงในตาราง\n",
    "การกรอก ให้ทำในลักษณะ 2 มิติ \n",
    "โดยฝั่งซ้ายอ่านค่าทิศทางแนวนอนไปทางขวา จะแสดงค่าจริงซึ่งหมายถึง Class/Label ของจริง \n",
    "ส่วนด้านบนอ่านค่าแนวดิ่งลงมา จะแสดงค่าที่ Model ทำนายออกมา \n",
    "\n",
    "เช่น ถ้าระบบทำนายถูกว่าติดเชื้อ (Positive) 5 คน ก็นำค่า 5 ไปกรอกใน True Positive ถ้าทำนายถูกว่าไม่ติดเชื้อ(Negative) 3 คน ก็นำ 3 ไปใส่ที่ช่อง True Negative"
   ]
  },
  {
   "cell_type": "raw",
   "metadata": {},
   "source": [
    "ความหมายของ Confusion Matrix แต่ละช่อง\n",
    "True Positive(TP): ทำนายถูกต้อง สำหรับผลในทางบวก(Yes หรือ ใช่) เช่น ตรวจแล้วพบว่า ติดเชื้อ ทาง ML ถือว่าทำนายถูกในทางบวก หรือ TP\n",
    "True Negative(TN): ทำนายถูกต้อง สำหรับผลในทางลบ(No หรือ ไม่ใช่) เช่น ตรวจแล้วไม่พบว่าติดเชื้อ ทาง ML ถือว่าทำนายถูกในทางลบ หรือ TN\n",
    "False Positive(FP): ทำนายผิด โดยให้ผลเป็นบวก(ของจริงไม่ใช่ แต่บอกว่าใช่) เช่น ตรวจแล้วพบว่าติดเชื้อ แต่จริง ๆ ไม่ได้ติด สรุปว่าให้ผลทำนายผิด หรือ FP\n",
    "False Negative(FN): ทำนายผิด โดยให้ผลเป็นลบ(ของจริงใช่ แต่บอกว่าไม่ใช่) เช่น ตรวจแล้วไม่ติดเชื้อ แต่จริง ๆ ติด สรุปว่าให้ผลทำนายผิด หรือ FN\n",
    "\n",
    "TP และ TN คือทำนายถูกต้อง ยิ่งสูงยิ่งดี\n",
    "FP และ FN คือความผิดพลาด ต้องต่ำ ๆ ถึงจะดี"
   ]
  },
  {
   "cell_type": "raw",
   "metadata": {},
   "source": [
    "FN FP อะไรดีกว่ากัน\n",
    "\n",
    "ทุกระบบต้องมี FN FP ซึ่งหลีกเลี่ยงไม่ได้ โดยความร้ายแรงหรืออันตรายของ FN FP จะแตกต่างกันออกไป เช่น\n",
    "\n",
    "ระบบตรวจคุณภาพสินค้า หากระบบทำนายว่า FN(บอกว่าเป็นของเสียทั้ง ๆ ที่จริง ๆ แล้วเป็นของดี) แล้วระบบ Reject ทิ้ง อาจทำให้กำไรน้อยลง\n",
    "ในทางกลับกัน ถ้าระบบทำนายว่า FP (บอกว่าเป็นของดีทั้ง ๆ ที่จริง ๆ แล้วเป็นของเสีย) ระบบจะปล่อยสินค้าออกสู่ตลอด อาจทำให้เสียหายร้ายแรง ในกรณีนี้ FP แย่กว่า FN\n",
    "\n",
    "หรือระบบตรวจจับเมลสแปม ถ้ากรณี FN (จริง ๆ แล้วเป็น spam แต่บอกเป็นเมล์ดี) เท่ากับว่ามีเมลขยะหลุดเข้าไป อาจทำให้เสียเวลาบ้าง\n",
    "แต่ถ้าเป็นกรณี FP (เมลดี แต่ตรวจจับว่าเป็นสแปม) จะถูกส่งเข้าถังขยะ ไม่ได้อ่าน ถ้าเป็นลูกค้าสำคัญอาจทำให้เสียโอกาส กรณีนี้ FP แย่กว่า FN\n",
    "\n",
    "หรือระบบตรวจจับป้องกันผู้บุกรุก กรณี FN(เป็นผู้ร้ายแต่บอกว่าเป็นคนดี) ระบบจะปล่อยให้เข้ามาในองค์กร ซึ่งอันตราย\n",
    "แต่ถ้ากรณี FP(เป็นคนดีแต่บอกเป็นผู้ร้าย) ระบบจะกันไม่ให้เข้าเครือข่าย อาจจะขลุกขลักบ้าง แต่ไม่แย่เท่าให้คนร้ายเข้ามา กรณีนี้ FN แย่กว่า FP"
   ]
  },
  {
   "cell_type": "raw",
   "metadata": {},
   "source": [
    "Label กำกับข้อมูล\n",
    "คือชื่อหรือข้อความหรือข้อมูลที่กำกับว่า ข้อมูลนั้นหรือสิ่งนั้นอยู่ใน class ใด หรือหมู่ใด\n",
    "\n",
    "เช่น ระบบคัดแยกของดี เราก็แปะป้าย(Label) กำกับไว้ เช่น 1=ของดี และ 0=ของเสีย \n",
    "\n",
    "ในเชิงข้อมูลของ ML ระบบอาจไม่เห็นลักษณะทางกายภาพ แต่อาจใช้ข้อมูลจำเพาะของแต่ละขวด(ข้อมูลตัวเลข) เช่น ความหนาผนังขวด และน้ำหนัก"
   ]
  },
  {
   "cell_type": "code",
   "execution_count": 1,
   "metadata": {},
   "outputs": [],
   "source": [
    "#Workshop \n",
    "#Binary Confusion Matrix\n",
    "\n",
    "#แสดงตัวอย่างการประเมินแบบ binary classification \n",
    "\n",
    "#create model ... สมมติว่าสร้างแล้ว\n",
    "#model.fit(X, y)\n",
    "#model.score(X, y) คำนวณความแม่นยำ\n",
    "#y_pred = model.predict(X_test) ทำการทำนาย\n",
    "\n",
    "#ค่า Label และความหมาย 0=Bad, 1=Good\n",
    "y_true = [0,1,0,1,0,0,1,0,0,1]       #ค่า Label จริงของข้อมูล\n",
    "\n",
    "#Label ที่ได้จากการทำนายของ Model (ผลการ Predict)\n",
    "y_pred = [0,1,0,1,0,1,1,0,1,0]      \n",
    "\n",
    "#y_true และ y_pred ต้องมีจำนวนข้อมูลเท่ากัน \n",
    "\n",
    "\n",
    "#ลองคำนวณค่าความแม่นยำด้วยมือ (Precision Positive)\n",
    "\n",
    "#ดูว่าที่ Model ทำนายถูกต้องว่าเป็น TP (Label=1) มีเท่าใด คำตอบคือ 3\n",
    "#ดูผลทำนายที่ Label=1 ทั้งหมด (TP+FP) คำตอบคือ 5 \n",
    "\n",
    "#Precision Positive คือ 3/5 = 0.6 หรือ 60%"
   ]
  },
  {
   "cell_type": "code",
   "execution_count": 2,
   "metadata": {},
   "outputs": [
    {
     "name": "stdout",
     "output_type": "stream",
     "text": [
      "Accuracy Score: 0.7\n",
      "              precision    recall  f1-score   support\n",
      "\n",
      "         Bad       0.80      0.67      0.73         6\n",
      "        Good       0.60      0.75      0.67         4\n",
      "\n",
      "    accuracy                           0.70        10\n",
      "   macro avg       0.70      0.71      0.70        10\n",
      "weighted avg       0.72      0.70      0.70        10\n",
      "\n",
      "[[4 2]\n",
      " [1 3]]\n"
     ]
    }
   ],
   "source": [
    "#ใช้ scikit learn นับ \n",
    "\n",
    "from sklearn.metrics import classification_report\n",
    "from sklearn.metrics import confusion_matrix\n",
    "from sklearn.metrics import accuracy_score \n",
    "\n",
    "#สั่งคำนวณและแสดงผลลัพธ์\n",
    "\n",
    "y_targets = ['Bad', 'Good']  #แทนค่า 0 และ 1 ตามลำดับ ให้ดูง่ายขึ้น\n",
    "\n",
    "print('Accuracy Score:', accuracy_score(y_true, y_pred))\n",
    "\n",
    "print(classification_report(y_true, y_pred, target_names=y_targets))      \n",
    "\n",
    "cm = confusion_matrix(y_true, y_pred)\n",
    "print(cm)"
   ]
  },
  {
   "cell_type": "code",
   "execution_count": 3,
   "metadata": {},
   "outputs": [],
   "source": [
    "#ผลลัพธ์ ได้ค่า 4 2 1 3"
   ]
  },
  {
   "cell_type": "raw",
   "metadata": {},
   "source": [
    "การอ่านค่าและตีความหมาย \n",
    "\n",
    "สมมติว่าในที่นี้ Positive คือ Good หรือ 1 คือของดี (สิ่งที่สนใจ) ส่วน Negative คือ Bad หรือ 0 คือของเสีย\n",
    "Support คือจำนวนเคสหรือจำนวน Samples \n",
    "เช่น มีจำนวนของเสีย(Badหรือ 0) 6 เคส(ชิ้น)\n",
    "    มีจำนวนของดี(Goodหรือ 1) 4 เคส(ชิ้น)\n",
    "    รวมทั้งหมด 10เคส(ชิ้น)\n",
    "    \n",
    "Accuracy (สัดส่วนเปอร์เซนต์ความถูกต้อง)\n",
    "    จำนวนที่ทำนายถูก(TF+TN)/จำนวนทั้งหมด\n",
    "    ; (4+3)/10 = 0.7\n",
    "    \n",
    "    \n",
    "Precision (ความแม่นยำผลทำนาย สนใจผลทำนาย) คำนวณโดยสัดส่วนที่ทำนายว่าเป็น Positive กับ Negative กี่%\n",
    "เช่น ทำนายว่าเป็นของดีถูกต้องกี่เปอร์เซนต์ และทำนายว่าเป็นของเสียถูกต้องกี่เปอร์เซ็นต์\n",
    "\n",
    "Precision(Positive) ดูความแม่นยำในการทำนายว่าเป็นของดี \n",
    "    สูตร TP/(TP+FP)\n",
    "    ;3/(3+2) = 3/5 =0.6 (เท่ากับที่เราคำนวณด้วยมือเมื่อกี้)(มีของดีทั้งหมด 5 ชิ้น ทำนายถูกทั้งหมด 3 ชิ้น)\n",
    "    \n",
    "Precision(Negative) ดูความแม่นยำในการทำนายว่าเป็นของเสีย\n",
    "    สูตร TN/(TN+FN)\n",
    "    ;4/(4+1) = 4/5 = 0.8 (มีของเสียทั้งหมด 5 ชิ้น ทำนายถูก 4 ชิ้น)\n",
    "    \n",
    "\n",
    "Recall (การวัดความแม่นยำ ที่สนใจผลลัพธ์เทียบกับที่เป็นของจริงด้วย)\n",
    "เช่น ของจริงมี 5 ชิ้น เป็นของดี(หรือของเสีย)กี่เปอร์เซนต์\n",
    "\n",
    "Recall(Positive) (เรียกอีกอย่างว่า Sensitivity หรือความไว)\n",
    "    สูตร TP/(TP+FN)\n",
    "    ;3/(3+1) = 3/4 = 0.75 (ของจริงมีของดีทั้งหมด 4 ชิ้น ใน 4 ชิ้น ทำนายถูก 3 ชิ้นว่าเป็นของดี)\n",
    "    \n",
    "Recall(Negative)\n",
    "    สูตร TN/(TN+FP)\n",
    "    ;4/(4+2) = 4/6 = 0.67 (ของจริงมีของเสียทั้งหมด 6 ชิ้น ใน 6 ชิ้น ทำนายถูก 4 ชิ้นว่าเป็นของเสีย)\n",
    "    \n",
    "F1-Score เป็นค่าแสดงประสิทธิภาพ โดยนำ 'P'recision กับ 'R'ecall มาคำนวณหาค่าเฉลี่ย (เรียกว่า Harmonic mean)\n",
    "ซึ่งค่าสูง ๆ ถือว่า Model มีประสิทธิภาพดี\n",
    "    สูตร 2PR/(P+R)\n",
    "    ;F1(Positive) = (2*0.8*0.67)/(0.8+0.67) = 0.73\n",
    "    ;F1(Negative) = (2*0.6*0.75)/(0.6+0.75) = 0.67"
   ]
  },
  {
   "cell_type": "raw",
   "metadata": {},
   "source": [
    "สรุปการอ่านผลประเมิน\n",
    "\n",
    "Support:   จำนวนข้อมูล(Samples) ที่นำมาใช้ประเมินทดสอบ (ในทางปฏิบัติควรให้สัดส่วนข้อมูลเท่า ๆ กัน มิฉะนั้นผลลัพธ์จะเกิดความเอนเอียง(bias))\n",
    "Precision: สนใจเฉพาะผลการทำนาย (สิ่งที่ Model ทำนายมา)\n",
    "Recall:    สนใจผลการทำนายที่เทียบกับของจริง"
   ]
  },
  {
   "cell_type": "code",
   "execution_count": 5,
   "metadata": {},
   "outputs": [
    {
     "data": {
      "text/plain": [
       "(4, 2, 1, 3)"
      ]
     },
     "execution_count": 5,
     "metadata": {},
     "output_type": "execute_result"
    }
   ],
   "source": [
    "#คำนวณหาค่าประสิทธิภาพจาก TP TN FP FN\n",
    "TN = cm[0, 0]\n",
    "FP = cm[0, 1]\n",
    "FN = cm[1, 0]\n",
    "TP = cm[1, 1]\n",
    "TN, FP, FN, TP"
   ]
  },
  {
   "cell_type": "code",
   "execution_count": 7,
   "metadata": {},
   "outputs": [
    {
     "name": "stdout",
     "output_type": "stream",
     "text": [
      "Accuracy: 0.7\n",
      "Precision (Positive or Good): 0.6\n",
      "Precision (Negative or Bad): 0.8\n",
      "Recall (Positive or Good): 0.75\n",
      "Recall (Negative or Bad): 0.67\n"
     ]
    }
   ],
   "source": [
    "precision_p = TP/(TP+FP)\n",
    "precision_n = TN/(TN+FN)\n",
    "recall_p = TP/(TP+FN)\n",
    "recall_n = TN/(TN+FP)\n",
    "accuracy = (TP+TN)/(TP+TN+FP+FN)\n",
    "print('Accuracy:', accuracy)\n",
    "print('Precision (Positive or Good):', precision_p)\n",
    "print('Precision (Negative or Bad):', precision_n)\n",
    "print('Recall (Positive or Good):', recall_p)\n",
    "print('Recall (Negative or Bad):', recall_n.round(2))\n",
    "\n",
    "#จะได้ค่าเดียวกับที่ได้จาก scikit-learn"
   ]
  },
  {
   "cell_type": "code",
   "execution_count": 8,
   "metadata": {},
   "outputs": [
    {
     "data": {
      "image/png": "[encoded data removed]",
      "text/plain": [
       "<Figure size 432x288 with 2 Axes>"
      ]
     },
     "metadata": {
      "needs_background": "light"
     },
     "output_type": "display_data"
    }
   ],
   "source": [
    "#Confusion Matrix Graphic\n",
    "#เป็น Text อาจจะดูยากเนื่องจากไม่มีข้อความ Label กำกับ และไม่สวยงาม\n",
    "#สามารถใช้ Seaborn Heatmap และ scikit-plot\n",
    "\n",
    "import matplotlib.pyplot as plt\n",
    "import seaborn as sns\n",
    "\n",
    "ax = plt.subplot()\n",
    "plt.rcParams['figure.figsize'] = 5, 4                #ขนาด (กำหนดหรือไม่ก็ได้)\n",
    "plt.rcParams.update({'font.size':14})                #ความสูงอักษร (ไม่ต้องกำหนดก็ได้)\n",
    "\n",
    "cm = confusion_matrix(y_true, y_pred)                #คำนวณค่า Confusion Matrix\n",
    "\n",
    "sns.heatmap(cm, annot=True, ax = ax, cmap=\"coolwarm\")  #เฉดสีออกโทน ฟ้า-แดง\n",
    "y_targets = ['Bad','Good']                             #Label กำกับ ถ้าไม่กำหนด จะแสดง 0 1\n",
    "ax.set_xlabel('Predicted labels')\n",
    "ax.set_ylabel('Actual (True)'); \n",
    "ax.set_title('Confusion Matrix');                      #Title\n",
    "ax.xaxis.set_ticklabels(y_targets)                     #label กำกับแกน x\n",
    "ax.yaxis.set_ticklabels(y_targets)                     #label กำกับแกน y\n",
    "\n",
    "plt.show()"
   ]
  },
  {
   "cell_type": "code",
   "execution_count": 9,
   "metadata": {},
   "outputs": [],
   "source": [
    "#scikit-plot (confusion matrix)\n",
    "#ใช้คำสั่พงล็อตโดยเฉพาะ ต้องติดตั้ง library scikit-plot เสียก่อนดังนี้\n",
    "\n",
    "#$ conda install -c conda-forge scikit-plot\n",
    "\n",
    "#โค้ดสร้าง Confusion Matrix \n",
    "#import scikitplot as skplot\n",
    "#y_true และ y_pred ใช้ workshop ที่ผ่านมา\n",
    "#skplot.metrics.plot_confusion_matrix(y_true, y_pred, normalize=False)\n",
    "#plt.show()"
   ]
  },
  {
   "cell_type": "code",
   "execution_count": 10,
   "metadata": {},
   "outputs": [
    {
     "name": "stdout",
     "output_type": "stream",
     "text": [
      "Accuracy Score: 0.733\n",
      "              precision    recall  f1-score   support\n",
      "\n",
      "         Cat       0.80      0.67      0.73         6\n",
      "         Dog       0.50      0.75      0.60         4\n",
      "        Bird       1.00      0.80      0.89         5\n",
      "\n",
      "    accuracy                           0.73        15\n",
      "   macro avg       0.77      0.74      0.74        15\n",
      "weighted avg       0.79      0.73      0.75        15\n",
      "\n",
      "[[4 2 0]\n",
      " [1 3 0]\n",
      " [0 1 4]]\n"
     ]
    }
   ],
   "source": [
    "#Confusion Matrix 3 Labels \n",
    "#ตัวอย่างคือ Cat(0), Dog(1), Bird(2)\n",
    "\n",
    "#create model...\n",
    "#model.fit(X, y)\n",
    "#model.score(X, y)\n",
    "#y_pred = model.predict(X_test)\n",
    "#0=Cat, 1=Dog, 2=Bird\n",
    "\n",
    "y_targets = ['Cat','Dog','Bird']\n",
    "\n",
    "y_true = [0,1,0,1,0,0,1,0,0,1,2,2,2,2,2]\n",
    "y_pred = [0,1,0,1,0,1,1,0,1,0,2,2,2,1,2]\n",
    "\n",
    "print('Accuracy Score: {:.3f}'.format(accuracy_score(y_true, y_pred)))\n",
    "\n",
    "print(classification_report(y_true, y_pred, target_names=y_targets))\n",
    "\n",
    "cm = confusion_matrix(y_true, y_pred)\n",
    "print(cm)"
   ]
  },
  {
   "cell_type": "code",
   "execution_count": 11,
   "metadata": {},
   "outputs": [
    {
     "name": "stdout",
     "output_type": "stream",
     "text": [
      "y_true:  [0, 1, 0, 1, 0, 0, 1, 0, 0, 1, 2, 2, 2, 2, 2]\n",
      "y_pred:  [0, 1, 0, 1, 0, 1, 1, 0, 1, 0, 2, 2, 2, 1, 2]\n"
     ]
    }
   ],
   "source": [
    "print('y_true: ',y_true)\n",
    "print('y_pred: ',y_pred)"
   ]
  },
  {
   "cell_type": "code",
   "execution_count": 12,
   "metadata": {},
   "outputs": [
    {
     "data": {
      "image/png": "[encoded data removed]",
      "text/plain": [
       "<Figure size 360x288 with 2 Axes>"
      ]
     },
     "metadata": {
      "needs_background": "light"
     },
     "output_type": "display_data"
    }
   ],
   "source": [
    "ax = plt.subplot()\n",
    "\n",
    "plt.rcParams['figure.figsize'] = 5, 4 \n",
    "plt.rcParams.update({'font.size':14}) \n",
    "\n",
    "sns.heatmap(cm, annot=True, ax = ax, cmap=\"coolwarm\") #annot=True แสดงค่ากำกับ\n",
    "ax.set_xlabel('Predicted labels')\n",
    "ax.set_ylabel('Actual (True)'); \n",
    "ax.set_title('Confusion Matrix'); \n",
    "ax.xaxis.set_ticklabels(y_targets)\n",
    "ax.yaxis.set_ticklabels(y_targets)\n",
    "\n",
    "plt.show()"
   ]
  },
  {
   "cell_type": "raw",
   "metadata": {},
   "source": [
    "การอ่านค่า ยึดหลักเหมือนกับแบบ 2Label\n",
    "มี Cat  6 เคส(4+2+0)\n",
    "มี Dog  4 เคส(1+3+0)\n",
    "มี Bird 5 เคส(0+1+4)\n",
    "ทั้งหมด 15 เคส\n",
    "\n",
    "Precision\n",
    "TP(Cat): ทำนายเป็น Cat 5 เคส ถูก 4 เคส = 4/(4+1+0) = 0.8\n",
    "TP(Dog): ทำนายเป็น Dog 6 เคส ถูก 3 เคส = 3/(3+2+1) = 0.5\n",
    "TP(Bird): ทำนายเป็น Bird 4 เคส ถูกหมด = 4/(4+0+0) = 1\n",
    "\n",
    "Recall\n",
    "TP(Cat): ทำนาย 4 ของจริง 6 = 4/(4+2+0) = 0.67\n",
    "TP(Dog): ทำนาย 3 ของจริง 4 = 3/(3+1+0) = 0.75\n",
    "TP(Bird): ทำนาย 4 ของจริง 5 = 4/(4+0+1) = 0.8\n",
    "\n",
    "F1-Score\n",
    "Bird = (2*1*0.8)/(1+0.8) = 0.89\n",
    "\n",
    "จากค่าที่ได้ แสดงว่า Model ของระบบนี้ มีความแม่นยำในการตรวจจับ Bird มากที่สุด คือ 89% (ส่วน Dog ค่อนข้างต่ำ)"
   ]
  },
  {
   "cell_type": "raw",
   "metadata": {},
   "source": [
    "การแบ่งข้อมูลสำหรับทดสอบ\n",
    "\n",
    "ตามหลักการจะใช้วิธีนำ dataset ทั้งหมดมาแบ่งเป็น 2 ส่วนคือ\n",
    "    - ส่วนที่นำไป train (training set)\n",
    "    - ส่วนที่นำไปประเมิน  (test set)\n",
    "    \n",
    "ลักษณะการแบ่งจะใช้วิธีการสุ่ม สัดส่วนขึ้นอยู่กับจำนวน dataset ส่วนมากจะแบ่ง 75:25, 70:30 หรือ 80:20\n",
    "\n",
    "เมื่อแบ่ง dataset แล้วจะได้ข้อมูล X_test, y_test\n",
    "X_test คือข้อมูลที่เหมือนกับ X ปกติ แต่แบ่งออกมาเพื่อใช้เป็นตัว test\n",
    "y_test คือ Label ของ X_test (y_test คือค่าของจริง ซึ่งเทียบเท่ากับ y_true ของ workshop1)\n",
    "\n",
    "ขั้นตอนประเมินทดสอบ\n",
    "นำ X_test ไปเป็น Input ให้ระบบหรือ Model ทำนาย Model(Model ได้จาก model.fit(X.., y..)) จะได้ผลลัพธ์คือ y_pred\n",
    "นำ y_pred ไปประเมินเทียบกับ y_test (ของจริง) จะได้ผลแบบเดียวกับใน ws1"
   ]
  },
  {
   "cell_type": "code",
   "execution_count": 14,
   "metadata": {},
   "outputs": [
    {
     "data": {
      "text/plain": [
       "Index(['age', 'employed', 'own_house', 'credit', 'target'], dtype='object')"
      ]
     },
     "execution_count": 14,
     "metadata": {},
     "output_type": "execute_result"
    }
   ],
   "source": [
    "#ทดสอบแบ่งชุดข้อมูลสำหรับ train และ test ด้วย scikit-learn\n",
    "\n",
    "import pandas as pd\n",
    "df = pd.read_csv('data/simple_loan.csv')\n",
    "df = df[:10]\n",
    "df.columns"
   ]
  },
  {
   "cell_type": "code",
   "execution_count": 15,
   "metadata": {},
   "outputs": [],
   "source": [
    "X = df[['age', 'employed', 'own_house', 'credit']]   #Features\n",
    "y = df.target                                        #target/label"
   ]
  },
  {
   "cell_type": "code",
   "execution_count": 16,
   "metadata": {},
   "outputs": [
    {
     "data": {
      "text/plain": [
       "((7, 4), (3, 4))"
      ]
     },
     "execution_count": 16,
     "metadata": {},
     "output_type": "execute_result"
    }
   ],
   "source": [
    "#แบ่งข้อมูลเพื่อ train และประเมินทดสอบ model (test)\n",
    "#โดยใช้ train_test_split()\n",
    "#ในที่นี่ต้องการแบ่ง 30% ของจำนวนข้อมูลทั้งหมด ไปเป็นข้อมูลทดสอบ(test)\n",
    "#กำหนด test_size = 0.3\n",
    "\n",
    "from sklearn.model_selection import train_test_split\n",
    "X_train, X_test,y_train,y_test = train_test_split(X, y, test_size=0.3, random_state=48)\n",
    "X_train.shape , X_test.shape"
   ]
  },
  {
   "cell_type": "code",
   "execution_count": 17,
   "metadata": {},
   "outputs": [
    {
     "data": {
      "text/html": [
       "<div>\n",
       "<style scoped>\n",
       "    .dataframe tbody tr th:only-of-type {\n",
       "        vertical-align: middle;\n",
       "    }\n",
       "\n",
       "    .dataframe tbody tr th {\n",
       "        vertical-align: top;\n",
       "    }\n",
       "\n",
       "    .dataframe thead th {\n",
       "        text-align: right;\n",
       "    }\n",
       "</style>\n",
       "<table border=\"1\" class=\"dataframe\">\n",
       "  <thead>\n",
       "    <tr style=\"text-align: right;\">\n",
       "      <th></th>\n",
       "      <th>age</th>\n",
       "      <th>employed</th>\n",
       "      <th>own_house</th>\n",
       "      <th>credit</th>\n",
       "    </tr>\n",
       "  </thead>\n",
       "  <tbody>\n",
       "    <tr>\n",
       "      <th>6</th>\n",
       "      <td>middle</td>\n",
       "      <td>False</td>\n",
       "      <td>n</td>\n",
       "      <td>good</td>\n",
       "    </tr>\n",
       "    <tr>\n",
       "      <th>9</th>\n",
       "      <td>middle</td>\n",
       "      <td>False</td>\n",
       "      <td>y</td>\n",
       "      <td>excellent</td>\n",
       "    </tr>\n",
       "    <tr>\n",
       "      <th>8</th>\n",
       "      <td>middle</td>\n",
       "      <td>False</td>\n",
       "      <td>y</td>\n",
       "      <td>excellent</td>\n",
       "    </tr>\n",
       "    <tr>\n",
       "      <th>4</th>\n",
       "      <td>young</td>\n",
       "      <td>False</td>\n",
       "      <td>n</td>\n",
       "      <td>fair</td>\n",
       "    </tr>\n",
       "    <tr>\n",
       "      <th>1</th>\n",
       "      <td>young</td>\n",
       "      <td>False</td>\n",
       "      <td>n</td>\n",
       "      <td>good</td>\n",
       "    </tr>\n",
       "    <tr>\n",
       "      <th>3</th>\n",
       "      <td>young</td>\n",
       "      <td>True</td>\n",
       "      <td>y</td>\n",
       "      <td>fair</td>\n",
       "    </tr>\n",
       "    <tr>\n",
       "      <th>0</th>\n",
       "      <td>young</td>\n",
       "      <td>False</td>\n",
       "      <td>n</td>\n",
       "      <td>fair</td>\n",
       "    </tr>\n",
       "  </tbody>\n",
       "</table>\n",
       "</div>"
      ],
      "text/plain": [
       "      age  employed own_house     credit\n",
       "6  middle     False         n       good\n",
       "9  middle     False         y  excellent\n",
       "8  middle     False         y  excellent\n",
       "4   young     False         n       fair\n",
       "1   young     False         n       good\n",
       "3   young      True         y       fair\n",
       "0   young     False         n       fair"
      ]
     },
     "execution_count": 17,
     "metadata": {},
     "output_type": "execute_result"
    }
   ],
   "source": [
    "X_train"
   ]
  },
  {
   "cell_type": "code",
   "execution_count": 18,
   "metadata": {},
   "outputs": [
    {
     "data": {
      "text/html": [
       "<div>\n",
       "<style scoped>\n",
       "    .dataframe tbody tr th:only-of-type {\n",
       "        vertical-align: middle;\n",
       "    }\n",
       "\n",
       "    .dataframe tbody tr th {\n",
       "        vertical-align: top;\n",
       "    }\n",
       "\n",
       "    .dataframe thead th {\n",
       "        text-align: right;\n",
       "    }\n",
       "</style>\n",
       "<table border=\"1\" class=\"dataframe\">\n",
       "  <thead>\n",
       "    <tr style=\"text-align: right;\">\n",
       "      <th></th>\n",
       "      <th>age</th>\n",
       "      <th>employed</th>\n",
       "      <th>own_house</th>\n",
       "      <th>credit</th>\n",
       "    </tr>\n",
       "  </thead>\n",
       "  <tbody>\n",
       "    <tr>\n",
       "      <th>7</th>\n",
       "      <td>middle</td>\n",
       "      <td>True</td>\n",
       "      <td>y</td>\n",
       "      <td>good</td>\n",
       "    </tr>\n",
       "    <tr>\n",
       "      <th>5</th>\n",
       "      <td>middle</td>\n",
       "      <td>False</td>\n",
       "      <td>n</td>\n",
       "      <td>fair</td>\n",
       "    </tr>\n",
       "    <tr>\n",
       "      <th>2</th>\n",
       "      <td>young</td>\n",
       "      <td>True</td>\n",
       "      <td>n</td>\n",
       "      <td>good</td>\n",
       "    </tr>\n",
       "  </tbody>\n",
       "</table>\n",
       "</div>"
      ],
      "text/plain": [
       "      age  employed own_house credit\n",
       "7  middle      True         y   good\n",
       "5  middle     False         n   fair\n",
       "2   young      True         n   good"
      ]
     },
     "execution_count": 18,
     "metadata": {},
     "output_type": "execute_result"
    }
   ],
   "source": [
    "X_test"
   ]
  },
  {
   "cell_type": "code",
   "execution_count": 19,
   "metadata": {},
   "outputs": [
    {
     "data": {
      "text/plain": [
       "6     no\n",
       "9    yes\n",
       "8    yes\n",
       "4     no\n",
       "1     no\n",
       "3    yes\n",
       "0     no\n",
       "Name: target, dtype: object"
      ]
     },
     "execution_count": 19,
     "metadata": {},
     "output_type": "execute_result"
    }
   ],
   "source": [
    "y_train"
   ]
  },
  {
   "cell_type": "code",
   "execution_count": 20,
   "metadata": {},
   "outputs": [
    {
     "data": {
      "text/plain": [
       "7    yes\n",
       "5     no\n",
       "2    yes\n",
       "Name: target, dtype: object"
      ]
     },
     "execution_count": 20,
     "metadata": {},
     "output_type": "execute_result"
    }
   ],
   "source": [
    "y_test"
   ]
  },
  {
   "cell_type": "code",
   "execution_count": 21,
   "metadata": {},
   "outputs": [],
   "source": [
    "#หากต้องการให้สุ่มได้ค่าเดิมทุกครั้ง\n",
    "#ให้กำหนดค่า random_state เป็นเลขอะไรก็ได้\n",
    "#เช่น โค้ดต่อไปนี้ จะรันกี่ครั้งก็ได้การแบ่งเหมือนเดิม\n",
    "\n",
    "#X_train, X_test, y_train, y_test = train_test_split(X, y, test_size=0.3, random_state=48)"
   ]
  },
  {
   "cell_type": "raw",
   "metadata": {},
   "source": [
    "workshop วิเคราะห์การปล่อยสินเชื่อ\n",
    "ข้อมูลประกอบด้วย อายุ, สถานะมีงานทำ(employed), ปลอดหนี้บ้าน(own_house), สถานะเครดิต(credit)\n",
    "โดยเมื่อระยะเวลาผ่านไป 1 ปี ได้นำประวัติการชำระหนี้มาพิจารณาแล้วบันทึกเข้าไปในข้อมูลช่อง target\n",
    "ถ้าใครมีประวัติดี ใส่ yes ถ้าไม่ดี(ผิดนัดชำระบ่อย) ให้ใส่ no\n",
    "\n",
    "เมื่อได้ข้อมูลแล้ว ต่อไปจะทำ ML ให้ระบบเรียนรู้ ทำนองว่าคุณสมบัติแบบใดที่ควรมิควรปล่อยกู้\n",
    "เมื่อได้ระบบ ML แล้วก็นำไปใช้งาน เมื่อมีลูกค้าขอสินเชื่อ ก็ใส่ Input แล้วให้เครื่องทำนาย\n",
    "\n",
    "ลักษณะการทำงานของระบบ ML นี้เป็นแบบ 2 Class (Yes, No)\n",
    "\n",
    "โดย algorithms ที่จะใช้ สามารถใช้ได้หลายวิธี\n",
    "แต่อันนี้จะยกเทคนิค decision tree มาใช้"
   ]
  },
  {
   "cell_type": "code",
   "execution_count": 22,
   "metadata": {},
   "outputs": [
    {
     "data": {
      "text/html": [
       "<div>\n",
       "<style scoped>\n",
       "    .dataframe tbody tr th:only-of-type {\n",
       "        vertical-align: middle;\n",
       "    }\n",
       "\n",
       "    .dataframe tbody tr th {\n",
       "        vertical-align: top;\n",
       "    }\n",
       "\n",
       "    .dataframe thead th {\n",
       "        text-align: right;\n",
       "    }\n",
       "</style>\n",
       "<table border=\"1\" class=\"dataframe\">\n",
       "  <thead>\n",
       "    <tr style=\"text-align: right;\">\n",
       "      <th></th>\n",
       "      <th>age</th>\n",
       "      <th>employed</th>\n",
       "      <th>own_house</th>\n",
       "      <th>credit</th>\n",
       "      <th>target</th>\n",
       "    </tr>\n",
       "  </thead>\n",
       "  <tbody>\n",
       "    <tr>\n",
       "      <th>0</th>\n",
       "      <td>young</td>\n",
       "      <td>False</td>\n",
       "      <td>n</td>\n",
       "      <td>fair</td>\n",
       "      <td>no</td>\n",
       "    </tr>\n",
       "    <tr>\n",
       "      <th>1</th>\n",
       "      <td>young</td>\n",
       "      <td>False</td>\n",
       "      <td>n</td>\n",
       "      <td>good</td>\n",
       "      <td>no</td>\n",
       "    </tr>\n",
       "    <tr>\n",
       "      <th>2</th>\n",
       "      <td>young</td>\n",
       "      <td>True</td>\n",
       "      <td>n</td>\n",
       "      <td>good</td>\n",
       "      <td>yes</td>\n",
       "    </tr>\n",
       "    <tr>\n",
       "      <th>3</th>\n",
       "      <td>young</td>\n",
       "      <td>True</td>\n",
       "      <td>y</td>\n",
       "      <td>fair</td>\n",
       "      <td>yes</td>\n",
       "    </tr>\n",
       "    <tr>\n",
       "      <th>4</th>\n",
       "      <td>young</td>\n",
       "      <td>False</td>\n",
       "      <td>n</td>\n",
       "      <td>fair</td>\n",
       "      <td>no</td>\n",
       "    </tr>\n",
       "  </tbody>\n",
       "</table>\n",
       "</div>"
      ],
      "text/plain": [
       "     age  employed own_house credit target\n",
       "0  young     False         n   fair     no\n",
       "1  young     False         n   good     no\n",
       "2  young      True         n   good    yes\n",
       "3  young      True         y   fair    yes\n",
       "4  young     False         n   fair     no"
      ]
     },
     "execution_count": 22,
     "metadata": {},
     "output_type": "execute_result"
    }
   ],
   "source": [
    "#แบ่งข้อมูลเป็น X_train, y_train, X_test, y_test(ตัวทดสอบ)\n",
    "\n",
    "import numpy as np\n",
    "import pandas as pd\n",
    "import seaborn as sns\n",
    "import matplotlib.pyplot as plt\n",
    "\n",
    "df = pd.read_csv('data/simple_loan.csv')\n",
    "df.head()"
   ]
  },
  {
   "cell_type": "code",
   "execution_count": 23,
   "metadata": {},
   "outputs": [
    {
     "data": {
      "text/plain": [
       "(17, 5)"
      ]
     },
     "execution_count": 23,
     "metadata": {},
     "output_type": "execute_result"
    }
   ],
   "source": [
    "df.shape"
   ]
  },
  {
   "cell_type": "code",
   "execution_count": 24,
   "metadata": {},
   "outputs": [
    {
     "data": {
      "text/plain": [
       "age          0\n",
       "employed     0\n",
       "own_house    0\n",
       "credit       0\n",
       "target       0\n",
       "dtype: int64"
      ]
     },
     "execution_count": 24,
     "metadata": {},
     "output_type": "execute_result"
    }
   ],
   "source": [
    "df.isnull().sum()"
   ]
  },
  {
   "cell_type": "code",
   "execution_count": 25,
   "metadata": {},
   "outputs": [
    {
     "data": {
      "text/plain": [
       "array(['no', 'yes'], dtype=object)"
      ]
     },
     "execution_count": 25,
     "metadata": {},
     "output_type": "execute_result"
    }
   ],
   "source": [
    "df.target.unique()"
   ]
  },
  {
   "cell_type": "code",
   "execution_count": 26,
   "metadata": {},
   "outputs": [
    {
     "data": {
      "text/html": [
       "<div>\n",
       "<style scoped>\n",
       "    .dataframe tbody tr th:only-of-type {\n",
       "        vertical-align: middle;\n",
       "    }\n",
       "\n",
       "    .dataframe tbody tr th {\n",
       "        vertical-align: top;\n",
       "    }\n",
       "\n",
       "    .dataframe thead th {\n",
       "        text-align: right;\n",
       "    }\n",
       "</style>\n",
       "<table border=\"1\" class=\"dataframe\">\n",
       "  <thead>\n",
       "    <tr style=\"text-align: right;\">\n",
       "      <th></th>\n",
       "      <th>age</th>\n",
       "      <th>employed</th>\n",
       "      <th>own_house</th>\n",
       "      <th>credit</th>\n",
       "    </tr>\n",
       "    <tr>\n",
       "      <th>target</th>\n",
       "      <th></th>\n",
       "      <th></th>\n",
       "      <th></th>\n",
       "      <th></th>\n",
       "    </tr>\n",
       "  </thead>\n",
       "  <tbody>\n",
       "    <tr>\n",
       "      <th>no</th>\n",
       "      <td>6</td>\n",
       "      <td>6</td>\n",
       "      <td>6</td>\n",
       "      <td>6</td>\n",
       "    </tr>\n",
       "    <tr>\n",
       "      <th>yes</th>\n",
       "      <td>11</td>\n",
       "      <td>11</td>\n",
       "      <td>11</td>\n",
       "      <td>11</td>\n",
       "    </tr>\n",
       "  </tbody>\n",
       "</table>\n",
       "</div>"
      ],
      "text/plain": [
       "        age  employed  own_house  credit\n",
       "target                                  \n",
       "no        6         6          6       6\n",
       "yes      11        11         11      11"
      ]
     },
     "execution_count": 26,
     "metadata": {},
     "output_type": "execute_result"
    }
   ],
   "source": [
    "df.groupby('target').count()"
   ]
  },
  {
   "cell_type": "code",
   "execution_count": 27,
   "metadata": {},
   "outputs": [
    {
     "data": {
      "text/html": [
       "<div>\n",
       "<style scoped>\n",
       "    .dataframe tbody tr th:only-of-type {\n",
       "        vertical-align: middle;\n",
       "    }\n",
       "\n",
       "    .dataframe tbody tr th {\n",
       "        vertical-align: top;\n",
       "    }\n",
       "\n",
       "    .dataframe thead th {\n",
       "        text-align: right;\n",
       "    }\n",
       "</style>\n",
       "<table border=\"1\" class=\"dataframe\">\n",
       "  <thead>\n",
       "    <tr style=\"text-align: right;\">\n",
       "      <th></th>\n",
       "      <th>age</th>\n",
       "      <th>employed</th>\n",
       "      <th>own_house</th>\n",
       "      <th>credit</th>\n",
       "      <th>target</th>\n",
       "      <th>age_</th>\n",
       "      <th>employed_</th>\n",
       "      <th>own_house_</th>\n",
       "      <th>credit_</th>\n",
       "      <th>target_</th>\n",
       "    </tr>\n",
       "  </thead>\n",
       "  <tbody>\n",
       "    <tr>\n",
       "      <th>16</th>\n",
       "      <td>young</td>\n",
       "      <td>True</td>\n",
       "      <td>y</td>\n",
       "      <td>fair</td>\n",
       "      <td>yes</td>\n",
       "      <td>2</td>\n",
       "      <td>1</td>\n",
       "      <td>1</td>\n",
       "      <td>1</td>\n",
       "      <td>1</td>\n",
       "    </tr>\n",
       "    <tr>\n",
       "      <th>2</th>\n",
       "      <td>young</td>\n",
       "      <td>True</td>\n",
       "      <td>n</td>\n",
       "      <td>good</td>\n",
       "      <td>yes</td>\n",
       "      <td>2</td>\n",
       "      <td>1</td>\n",
       "      <td>0</td>\n",
       "      <td>2</td>\n",
       "      <td>1</td>\n",
       "    </tr>\n",
       "    <tr>\n",
       "      <th>10</th>\n",
       "      <td>old</td>\n",
       "      <td>False</td>\n",
       "      <td>y</td>\n",
       "      <td>excellent</td>\n",
       "      <td>yes</td>\n",
       "      <td>1</td>\n",
       "      <td>0</td>\n",
       "      <td>1</td>\n",
       "      <td>0</td>\n",
       "      <td>1</td>\n",
       "    </tr>\n",
       "    <tr>\n",
       "      <th>5</th>\n",
       "      <td>middle</td>\n",
       "      <td>False</td>\n",
       "      <td>n</td>\n",
       "      <td>fair</td>\n",
       "      <td>no</td>\n",
       "      <td>0</td>\n",
       "      <td>0</td>\n",
       "      <td>0</td>\n",
       "      <td>1</td>\n",
       "      <td>0</td>\n",
       "    </tr>\n",
       "    <tr>\n",
       "      <th>1</th>\n",
       "      <td>young</td>\n",
       "      <td>False</td>\n",
       "      <td>n</td>\n",
       "      <td>good</td>\n",
       "      <td>no</td>\n",
       "      <td>2</td>\n",
       "      <td>0</td>\n",
       "      <td>0</td>\n",
       "      <td>2</td>\n",
       "      <td>0</td>\n",
       "    </tr>\n",
       "  </tbody>\n",
       "</table>\n",
       "</div>"
      ],
      "text/plain": [
       "       age  employed own_house     credit target  age_  employed_  own_house_  \\\n",
       "16   young      True         y       fair    yes     2          1           1   \n",
       "2    young      True         n       good    yes     2          1           0   \n",
       "10     old     False         y  excellent    yes     1          0           1   \n",
       "5   middle     False         n       fair     no     0          0           0   \n",
       "1    young     False         n       good     no     2          0           0   \n",
       "\n",
       "    credit_  target_  \n",
       "16        1        1  \n",
       "2         2        1  \n",
       "10        0        1  \n",
       "5         1        0  \n",
       "1         2        0  "
      ]
     },
     "execution_count": 27,
     "metadata": {},
     "output_type": "execute_result"
    }
   ],
   "source": [
    "#ฟังก์ชันเข้ารหัส Label encode โดยใช้ pd.factorize\n",
    "def labelEncode(data, columns):\n",
    "    for i in columns:\n",
    "        data[i + '_'], _ = pd.factorize(data[i], sort=True)  \n",
    "    \n",
    "feature_columns = ['age', 'employed', 'own_house', 'credit']\n",
    "labelEncode(df, feature_columns)    \n",
    "\n",
    "df['target_'], class_names = pd.factorize(df.target)\n",
    "df.sample(5)\n",
    "\n",
    "#จะได้ข้อมูลที่เข้ารหัสเปลี่ยนจากข้อความเป็นตัวเลขแล้ว ซึ่งก็คือชื่อคอลัมน์ที่ลงท้ายด้วยขีด เช่น age_, employed_ (_ ไม่ได้มีผลอะไร แค่ตั้งชื่อตัวแปรให้ต่าง จะได้ดูง่าย ๆ)"
   ]
  },
  {
   "cell_type": "code",
   "execution_count": 28,
   "metadata": {},
   "outputs": [
    {
     "data": {
      "text/plain": [
       "Index(['no', 'yes'], dtype='object')"
      ]
     },
     "execution_count": 28,
     "metadata": {},
     "output_type": "execute_result"
    }
   ],
   "source": [
    "#หลังเข้ารหัส ให้ใช้คอลัมน์ที่มี _ (คอลัมน์อื่นที่ไม่มี ลบทิ้งไปก็ได้เพราะไม่ใช้แล้ว แต่ในที่นี้จะเอาไว้ เพื่อเปรียบเทียบให้เห็นภาพ)\n",
    "class_names #ตรวจ class"
   ]
  },
  {
   "cell_type": "code",
   "execution_count": 29,
   "metadata": {},
   "outputs": [
    {
     "data": {
      "text/plain": [
       "Index(['age', 'employed', 'own_house', 'credit', 'target', 'age_', 'employed_',\n",
       "       'own_house_', 'credit_', 'target_'],\n",
       "      dtype='object')"
      ]
     },
     "execution_count": 29,
     "metadata": {},
     "output_type": "execute_result"
    }
   ],
   "source": [
    "df.columns"
   ]
  },
  {
   "cell_type": "code",
   "execution_count": 33,
   "metadata": {},
   "outputs": [
    {
     "data": {
      "text/html": [
       "<div>\n",
       "<style scoped>\n",
       "    .dataframe tbody tr th:only-of-type {\n",
       "        vertical-align: middle;\n",
       "    }\n",
       "\n",
       "    .dataframe tbody tr th {\n",
       "        vertical-align: top;\n",
       "    }\n",
       "\n",
       "    .dataframe thead th {\n",
       "        text-align: right;\n",
       "    }\n",
       "</style>\n",
       "<table border=\"1\" class=\"dataframe\">\n",
       "  <thead>\n",
       "    <tr style=\"text-align: right;\">\n",
       "      <th></th>\n",
       "      <th>age_</th>\n",
       "      <th>employed_</th>\n",
       "      <th>own_house_</th>\n",
       "      <th>credit_</th>\n",
       "    </tr>\n",
       "  </thead>\n",
       "  <tbody>\n",
       "    <tr>\n",
       "      <th>0</th>\n",
       "      <td>2</td>\n",
       "      <td>0</td>\n",
       "      <td>0</td>\n",
       "      <td>1</td>\n",
       "    </tr>\n",
       "    <tr>\n",
       "      <th>1</th>\n",
       "      <td>2</td>\n",
       "      <td>0</td>\n",
       "      <td>0</td>\n",
       "      <td>2</td>\n",
       "    </tr>\n",
       "    <tr>\n",
       "      <th>2</th>\n",
       "      <td>2</td>\n",
       "      <td>1</td>\n",
       "      <td>0</td>\n",
       "      <td>2</td>\n",
       "    </tr>\n",
       "    <tr>\n",
       "      <th>3</th>\n",
       "      <td>2</td>\n",
       "      <td>1</td>\n",
       "      <td>1</td>\n",
       "      <td>1</td>\n",
       "    </tr>\n",
       "    <tr>\n",
       "      <th>4</th>\n",
       "      <td>2</td>\n",
       "      <td>0</td>\n",
       "      <td>0</td>\n",
       "      <td>1</td>\n",
       "    </tr>\n",
       "  </tbody>\n",
       "</table>\n",
       "</div>"
      ],
      "text/plain": [
       "   age_  employed_  own_house_  credit_\n",
       "0     2          0           0        1\n",
       "1     2          0           0        2\n",
       "2     2          1           0        2\n",
       "3     2          1           1        1\n",
       "4     2          0           0        1"
      ]
     },
     "execution_count": 33,
     "metadata": {},
     "output_type": "execute_result"
    }
   ],
   "source": [
    "enc_columns = ['age_', 'employed_', 'own_house_', 'credit_']\n",
    "X = df[enc_columns]\n",
    "X.head()\n",
    "\n",
    "#ข้อมูลที่เป็น feature ที่ใช้ train"
   ]
  },
  {
   "cell_type": "code",
   "execution_count": 34,
   "metadata": {},
   "outputs": [
    {
     "data": {
      "text/plain": [
       "0    0\n",
       "1    0\n",
       "2    1\n",
       "3    1\n",
       "4    0\n",
       "Name: target_, dtype: int64"
      ]
     },
     "execution_count": 34,
     "metadata": {},
     "output_type": "execute_result"
    }
   ],
   "source": [
    "#ตรวจสอบ target/label\n",
    "y = df.target_\n",
    "y[:5]"
   ]
  },
  {
   "cell_type": "code",
   "execution_count": 35,
   "metadata": {},
   "outputs": [
    {
     "name": "stdout",
     "output_type": "stream",
     "text": [
      "age\n",
      "['young' 'middle' 'old']\n",
      "[2 0 1]\n",
      "----\n",
      "employed\n",
      "[False  True]\n",
      "[0 1]\n",
      "----\n",
      "own_house\n",
      "['n' 'y']\n",
      "[0 1]\n",
      "----\n",
      "credit\n",
      "['fair' 'good' 'excellent']\n",
      "[1 2 0]\n",
      "----\n"
     ]
    }
   ],
   "source": [
    "#หากต้องการดูค่าของข้อมูลเดิม เทียบกับค่าที่เข้ารหัสแล้ว\n",
    "for i in enc_columns:\n",
    "    print(i[:-1]) \n",
    "    print(df[i[:-1]].unique())\n",
    "    print(df[i].unique())\n",
    "    print('----')"
   ]
  },
  {
   "cell_type": "code",
   "execution_count": 36,
   "metadata": {},
   "outputs": [],
   "source": [
    "#แบ่งข้อมูลเป็น train และ test\n",
    "\n",
    "from sklearn.model_selection import train_test_split\n",
    "X_train, X_test,y_train,y_test = train_test_split(X, y, test_size=0.3, random_state=20) "
   ]
  },
  {
   "cell_type": "code",
   "execution_count": 37,
   "metadata": {},
   "outputs": [
    {
     "data": {
      "text/plain": [
       "((11, 4), (6, 4))"
      ]
     },
     "execution_count": 37,
     "metadata": {},
     "output_type": "execute_result"
    }
   ],
   "source": [
    "X_train.shape , X_test.shape"
   ]
  },
  {
   "cell_type": "code",
   "execution_count": 38,
   "metadata": {},
   "outputs": [
    {
     "data": {
      "text/plain": [
       "((11,), (6,))"
      ]
     },
     "execution_count": 38,
     "metadata": {},
     "output_type": "execute_result"
    }
   ],
   "source": [
    "y_train.shape , y_test.shape"
   ]
  },
  {
   "cell_type": "code",
   "execution_count": 39,
   "metadata": {},
   "outputs": [
    {
     "data": {
      "text/html": [
       "<div>\n",
       "<style scoped>\n",
       "    .dataframe tbody tr th:only-of-type {\n",
       "        vertical-align: middle;\n",
       "    }\n",
       "\n",
       "    .dataframe tbody tr th {\n",
       "        vertical-align: top;\n",
       "    }\n",
       "\n",
       "    .dataframe thead th {\n",
       "        text-align: right;\n",
       "    }\n",
       "</style>\n",
       "<table border=\"1\" class=\"dataframe\">\n",
       "  <thead>\n",
       "    <tr style=\"text-align: right;\">\n",
       "      <th></th>\n",
       "      <th>age_</th>\n",
       "      <th>employed_</th>\n",
       "      <th>own_house_</th>\n",
       "      <th>credit_</th>\n",
       "    </tr>\n",
       "  </thead>\n",
       "  <tbody>\n",
       "    <tr>\n",
       "      <th>13</th>\n",
       "      <td>1</td>\n",
       "      <td>1</td>\n",
       "      <td>0</td>\n",
       "      <td>0</td>\n",
       "    </tr>\n",
       "    <tr>\n",
       "      <th>0</th>\n",
       "      <td>2</td>\n",
       "      <td>0</td>\n",
       "      <td>0</td>\n",
       "      <td>1</td>\n",
       "    </tr>\n",
       "    <tr>\n",
       "      <th>2</th>\n",
       "      <td>2</td>\n",
       "      <td>1</td>\n",
       "      <td>0</td>\n",
       "      <td>2</td>\n",
       "    </tr>\n",
       "    <tr>\n",
       "      <th>7</th>\n",
       "      <td>0</td>\n",
       "      <td>1</td>\n",
       "      <td>1</td>\n",
       "      <td>2</td>\n",
       "    </tr>\n",
       "    <tr>\n",
       "      <th>6</th>\n",
       "      <td>0</td>\n",
       "      <td>0</td>\n",
       "      <td>0</td>\n",
       "      <td>2</td>\n",
       "    </tr>\n",
       "    <tr>\n",
       "      <th>4</th>\n",
       "      <td>2</td>\n",
       "      <td>0</td>\n",
       "      <td>0</td>\n",
       "      <td>1</td>\n",
       "    </tr>\n",
       "    <tr>\n",
       "      <th>9</th>\n",
       "      <td>0</td>\n",
       "      <td>0</td>\n",
       "      <td>1</td>\n",
       "      <td>0</td>\n",
       "    </tr>\n",
       "    <tr>\n",
       "      <th>15</th>\n",
       "      <td>1</td>\n",
       "      <td>0</td>\n",
       "      <td>0</td>\n",
       "      <td>0</td>\n",
       "    </tr>\n",
       "    <tr>\n",
       "      <th>12</th>\n",
       "      <td>1</td>\n",
       "      <td>1</td>\n",
       "      <td>0</td>\n",
       "      <td>2</td>\n",
       "    </tr>\n",
       "    <tr>\n",
       "      <th>10</th>\n",
       "      <td>1</td>\n",
       "      <td>0</td>\n",
       "      <td>1</td>\n",
       "      <td>0</td>\n",
       "    </tr>\n",
       "    <tr>\n",
       "      <th>3</th>\n",
       "      <td>2</td>\n",
       "      <td>1</td>\n",
       "      <td>1</td>\n",
       "      <td>1</td>\n",
       "    </tr>\n",
       "  </tbody>\n",
       "</table>\n",
       "</div>"
      ],
      "text/plain": [
       "    age_  employed_  own_house_  credit_\n",
       "13     1          1           0        0\n",
       "0      2          0           0        1\n",
       "2      2          1           0        2\n",
       "7      0          1           1        2\n",
       "6      0          0           0        2\n",
       "4      2          0           0        1\n",
       "9      0          0           1        0\n",
       "15     1          0           0        0\n",
       "12     1          1           0        2\n",
       "10     1          0           1        0\n",
       "3      2          1           1        1"
      ]
     },
     "execution_count": 39,
     "metadata": {},
     "output_type": "execute_result"
    }
   ],
   "source": [
    "X_train"
   ]
  },
  {
   "cell_type": "code",
   "execution_count": 40,
   "metadata": {},
   "outputs": [
    {
     "data": {
      "text/html": [
       "<div>\n",
       "<style scoped>\n",
       "    .dataframe tbody tr th:only-of-type {\n",
       "        vertical-align: middle;\n",
       "    }\n",
       "\n",
       "    .dataframe tbody tr th {\n",
       "        vertical-align: top;\n",
       "    }\n",
       "\n",
       "    .dataframe thead th {\n",
       "        text-align: right;\n",
       "    }\n",
       "</style>\n",
       "<table border=\"1\" class=\"dataframe\">\n",
       "  <thead>\n",
       "    <tr style=\"text-align: right;\">\n",
       "      <th></th>\n",
       "      <th>age_</th>\n",
       "      <th>employed_</th>\n",
       "      <th>own_house_</th>\n",
       "      <th>credit_</th>\n",
       "    </tr>\n",
       "  </thead>\n",
       "  <tbody>\n",
       "    <tr>\n",
       "      <th>16</th>\n",
       "      <td>2</td>\n",
       "      <td>1</td>\n",
       "      <td>1</td>\n",
       "      <td>1</td>\n",
       "    </tr>\n",
       "    <tr>\n",
       "      <th>1</th>\n",
       "      <td>2</td>\n",
       "      <td>0</td>\n",
       "      <td>0</td>\n",
       "      <td>2</td>\n",
       "    </tr>\n",
       "    <tr>\n",
       "      <th>5</th>\n",
       "      <td>0</td>\n",
       "      <td>0</td>\n",
       "      <td>0</td>\n",
       "      <td>1</td>\n",
       "    </tr>\n",
       "    <tr>\n",
       "      <th>11</th>\n",
       "      <td>1</td>\n",
       "      <td>0</td>\n",
       "      <td>1</td>\n",
       "      <td>2</td>\n",
       "    </tr>\n",
       "    <tr>\n",
       "      <th>8</th>\n",
       "      <td>0</td>\n",
       "      <td>0</td>\n",
       "      <td>1</td>\n",
       "      <td>0</td>\n",
       "    </tr>\n",
       "    <tr>\n",
       "      <th>14</th>\n",
       "      <td>1</td>\n",
       "      <td>0</td>\n",
       "      <td>0</td>\n",
       "      <td>1</td>\n",
       "    </tr>\n",
       "  </tbody>\n",
       "</table>\n",
       "</div>"
      ],
      "text/plain": [
       "    age_  employed_  own_house_  credit_\n",
       "16     2          1           1        1\n",
       "1      2          0           0        2\n",
       "5      0          0           0        1\n",
       "11     1          0           1        2\n",
       "8      0          0           1        0\n",
       "14     1          0           0        1"
      ]
     },
     "execution_count": 40,
     "metadata": {},
     "output_type": "execute_result"
    }
   ],
   "source": [
    "X_test"
   ]
  },
  {
   "cell_type": "code",
   "execution_count": 42,
   "metadata": {},
   "outputs": [
    {
     "data": {
      "text/plain": [
       "DecisionTreeClassifier(max_depth=2)"
      ]
     },
     "execution_count": 42,
     "metadata": {},
     "output_type": "execute_result"
    }
   ],
   "source": [
    "#สร้าง Model โดยใช้ X_train, y_train\n",
    "\n",
    "from sklearn.tree import DecisionTreeClassifier\n",
    "# from sklearn.metrics import accuracy_score\n",
    "\n",
    "model = DecisionTreeClassifier(max_depth=2)      #max_depth คือความลึกของ Decision tree\n",
    "model.fit(X_train, y_train)"
   ]
  },
  {
   "cell_type": "code",
   "execution_count": 43,
   "metadata": {},
   "outputs": [
    {
     "data": {
      "text/plain": [
       "0.8333333333333334"
      ]
     },
     "execution_count": 43,
     "metadata": {},
     "output_type": "execute_result"
    }
   ],
   "source": [
    "#ทดสอบด้วย X_test, y_test\n",
    "\n",
    "model.score(X_test, y_test)"
   ]
  },
  {
   "cell_type": "code",
   "execution_count": 44,
   "metadata": {},
   "outputs": [],
   "source": [
    "#ความแม่นยำเฉลี่ย 83%"
   ]
  },
  {
   "cell_type": "code",
   "execution_count": 45,
   "metadata": {},
   "outputs": [
    {
     "name": "stdout",
     "output_type": "stream",
     "text": [
      "Score -> 0.833\n",
      "Accuracy Score:  0.833\n",
      "              precision    recall  f1-score   support\n",
      "\n",
      "          no       0.75      1.00      0.86         3\n",
      "         yes       1.00      0.67      0.80         3\n",
      "\n",
      "    accuracy                           0.83         6\n",
      "   macro avg       0.88      0.83      0.83         6\n",
      "weighted avg       0.88      0.83      0.83         6\n",
      "\n",
      "[[3 0]\n",
      " [1 2]]\n"
     ]
    }
   ],
   "source": [
    "#คำนวณรายงานและ Confusion Matrix\n",
    "\n",
    "from sklearn.metrics import accuracy_score \n",
    "from sklearn.metrics import classification_report\n",
    "from sklearn.metrics import confusion_matrix\n",
    "\n",
    "y_pred = model.predict(X_test)\n",
    "\n",
    "print('Score -> {:.3f}' . format(model.score(X_test, y_test)))\n",
    "print('Accuracy Score: ',accuracy_score(y_test, y_pred).round(3))\n",
    "#class_names = no, yes \n",
    "\n",
    "print(classification_report(y_test, y_pred, target_names=class_names))\n",
    "\n",
    "cm = confusion_matrix(y_test, y_pred)\n",
    "print(cm)"
   ]
  },
  {
   "cell_type": "code",
   "execution_count": 46,
   "metadata": {},
   "outputs": [
    {
     "name": "stdout",
     "output_type": "stream",
     "text": [
      "16    1\n",
      "1     0\n",
      "5     0\n",
      "11    1\n",
      "8     1\n",
      "14    0\n",
      "Name: target_, dtype: int64 <- y_test (Actual or True data)\n",
      "[1 0 0 0 1 0] <- y_predicted from the model\n"
     ]
    }
   ],
   "source": [
    "print(y_test, '<- y_test (Actual or True data)')\n",
    "print(y_pred, '<- y_predicted from the model')"
   ]
  },
  {
   "cell_type": "code",
   "execution_count": 47,
   "metadata": {},
   "outputs": [
    {
     "name": "stdout",
     "output_type": "stream",
     "text": [
      "yes\n",
      "no\n",
      "no\n",
      "no\n",
      "yes\n",
      "no\n"
     ]
    }
   ],
   "source": [
    "#ฟังก์ชันแสดงชื่อ label\n",
    "for i in y_pred:\n",
    "    print(class_names[i])"
   ]
  },
  {
   "cell_type": "raw",
   "metadata": {},
   "source": [
    "#พล็อตแบบกราฟิกด้วย scikitplot\n",
    "import scikitplot as skplot\n",
    "skplot.metrics.plot_confusion_matrix(y_test, y_pred, normalize=False)\n",
    "plt.savefig('eval-loan-cm1b.png', dpi=120)\n",
    "plt.show()"
   ]
  },
  {
   "cell_type": "code",
   "execution_count": 51,
   "metadata": {},
   "outputs": [
    {
     "data": {
      "text/plain": [
       "array([0.    , 0.3125, 0.    , 0.6875])"
      ]
     },
     "execution_count": 51,
     "metadata": {},
     "output_type": "execute_result"
    }
   ],
   "source": [
    "#ดูค่าความสำคัญของ Features\n",
    "model.feature_importances_"
   ]
  },
  {
   "cell_type": "raw",
   "metadata": {},
   "source": [
    "ตัวแรก(age=0.) และตัวที่สาม(own_house=0.) ไม่ค่อยมีผลต่อการตัดสินใจ\n",
    "ตัวที่สอง(employed=0.3125) และตัวที่สี่(credit=0.6875) มีผลต่อการตัดสินใจมากกว่า\n",
    "\n",
    "ลองพิมพ์ df เทียบข้อมูลจริง จะพบว่า ถ้าคนมีงานทำจะได้ target = Yes\n",
    "ถ้าไม่มีงานทำ แต่มีเครดิตเป็น good(>= 1.5) ก็ยังได้ Yes "
   ]
  },
  {
   "cell_type": "code",
   "execution_count": 52,
   "metadata": {},
   "outputs": [
    {
     "data": {
      "text/html": [
       "<div>\n",
       "<style scoped>\n",
       "    .dataframe tbody tr th:only-of-type {\n",
       "        vertical-align: middle;\n",
       "    }\n",
       "\n",
       "    .dataframe tbody tr th {\n",
       "        vertical-align: top;\n",
       "    }\n",
       "\n",
       "    .dataframe thead th {\n",
       "        text-align: right;\n",
       "    }\n",
       "</style>\n",
       "<table border=\"1\" class=\"dataframe\">\n",
       "  <thead>\n",
       "    <tr style=\"text-align: right;\">\n",
       "      <th></th>\n",
       "      <th>age</th>\n",
       "      <th>employed</th>\n",
       "      <th>own_house</th>\n",
       "      <th>credit</th>\n",
       "      <th>target</th>\n",
       "      <th>age_</th>\n",
       "      <th>employed_</th>\n",
       "      <th>own_house_</th>\n",
       "      <th>credit_</th>\n",
       "      <th>target_</th>\n",
       "    </tr>\n",
       "  </thead>\n",
       "  <tbody>\n",
       "    <tr>\n",
       "      <th>0</th>\n",
       "      <td>young</td>\n",
       "      <td>False</td>\n",
       "      <td>n</td>\n",
       "      <td>fair</td>\n",
       "      <td>no</td>\n",
       "      <td>2</td>\n",
       "      <td>0</td>\n",
       "      <td>0</td>\n",
       "      <td>1</td>\n",
       "      <td>0</td>\n",
       "    </tr>\n",
       "    <tr>\n",
       "      <th>1</th>\n",
       "      <td>young</td>\n",
       "      <td>False</td>\n",
       "      <td>n</td>\n",
       "      <td>good</td>\n",
       "      <td>no</td>\n",
       "      <td>2</td>\n",
       "      <td>0</td>\n",
       "      <td>0</td>\n",
       "      <td>2</td>\n",
       "      <td>0</td>\n",
       "    </tr>\n",
       "    <tr>\n",
       "      <th>2</th>\n",
       "      <td>young</td>\n",
       "      <td>True</td>\n",
       "      <td>n</td>\n",
       "      <td>good</td>\n",
       "      <td>yes</td>\n",
       "      <td>2</td>\n",
       "      <td>1</td>\n",
       "      <td>0</td>\n",
       "      <td>2</td>\n",
       "      <td>1</td>\n",
       "    </tr>\n",
       "    <tr>\n",
       "      <th>3</th>\n",
       "      <td>young</td>\n",
       "      <td>True</td>\n",
       "      <td>y</td>\n",
       "      <td>fair</td>\n",
       "      <td>yes</td>\n",
       "      <td>2</td>\n",
       "      <td>1</td>\n",
       "      <td>1</td>\n",
       "      <td>1</td>\n",
       "      <td>1</td>\n",
       "    </tr>\n",
       "    <tr>\n",
       "      <th>4</th>\n",
       "      <td>young</td>\n",
       "      <td>False</td>\n",
       "      <td>n</td>\n",
       "      <td>fair</td>\n",
       "      <td>no</td>\n",
       "      <td>2</td>\n",
       "      <td>0</td>\n",
       "      <td>0</td>\n",
       "      <td>1</td>\n",
       "      <td>0</td>\n",
       "    </tr>\n",
       "    <tr>\n",
       "      <th>5</th>\n",
       "      <td>middle</td>\n",
       "      <td>False</td>\n",
       "      <td>n</td>\n",
       "      <td>fair</td>\n",
       "      <td>no</td>\n",
       "      <td>0</td>\n",
       "      <td>0</td>\n",
       "      <td>0</td>\n",
       "      <td>1</td>\n",
       "      <td>0</td>\n",
       "    </tr>\n",
       "    <tr>\n",
       "      <th>6</th>\n",
       "      <td>middle</td>\n",
       "      <td>False</td>\n",
       "      <td>n</td>\n",
       "      <td>good</td>\n",
       "      <td>no</td>\n",
       "      <td>0</td>\n",
       "      <td>0</td>\n",
       "      <td>0</td>\n",
       "      <td>2</td>\n",
       "      <td>0</td>\n",
       "    </tr>\n",
       "    <tr>\n",
       "      <th>7</th>\n",
       "      <td>middle</td>\n",
       "      <td>True</td>\n",
       "      <td>y</td>\n",
       "      <td>good</td>\n",
       "      <td>yes</td>\n",
       "      <td>0</td>\n",
       "      <td>1</td>\n",
       "      <td>1</td>\n",
       "      <td>2</td>\n",
       "      <td>1</td>\n",
       "    </tr>\n",
       "    <tr>\n",
       "      <th>8</th>\n",
       "      <td>middle</td>\n",
       "      <td>False</td>\n",
       "      <td>y</td>\n",
       "      <td>excellent</td>\n",
       "      <td>yes</td>\n",
       "      <td>0</td>\n",
       "      <td>0</td>\n",
       "      <td>1</td>\n",
       "      <td>0</td>\n",
       "      <td>1</td>\n",
       "    </tr>\n",
       "    <tr>\n",
       "      <th>9</th>\n",
       "      <td>middle</td>\n",
       "      <td>False</td>\n",
       "      <td>y</td>\n",
       "      <td>excellent</td>\n",
       "      <td>yes</td>\n",
       "      <td>0</td>\n",
       "      <td>0</td>\n",
       "      <td>1</td>\n",
       "      <td>0</td>\n",
       "      <td>1</td>\n",
       "    </tr>\n",
       "    <tr>\n",
       "      <th>10</th>\n",
       "      <td>old</td>\n",
       "      <td>False</td>\n",
       "      <td>y</td>\n",
       "      <td>excellent</td>\n",
       "      <td>yes</td>\n",
       "      <td>1</td>\n",
       "      <td>0</td>\n",
       "      <td>1</td>\n",
       "      <td>0</td>\n",
       "      <td>1</td>\n",
       "    </tr>\n",
       "    <tr>\n",
       "      <th>11</th>\n",
       "      <td>old</td>\n",
       "      <td>False</td>\n",
       "      <td>y</td>\n",
       "      <td>good</td>\n",
       "      <td>yes</td>\n",
       "      <td>1</td>\n",
       "      <td>0</td>\n",
       "      <td>1</td>\n",
       "      <td>2</td>\n",
       "      <td>1</td>\n",
       "    </tr>\n",
       "    <tr>\n",
       "      <th>12</th>\n",
       "      <td>old</td>\n",
       "      <td>True</td>\n",
       "      <td>n</td>\n",
       "      <td>good</td>\n",
       "      <td>yes</td>\n",
       "      <td>1</td>\n",
       "      <td>1</td>\n",
       "      <td>0</td>\n",
       "      <td>2</td>\n",
       "      <td>1</td>\n",
       "    </tr>\n",
       "    <tr>\n",
       "      <th>13</th>\n",
       "      <td>old</td>\n",
       "      <td>True</td>\n",
       "      <td>n</td>\n",
       "      <td>excellent</td>\n",
       "      <td>yes</td>\n",
       "      <td>1</td>\n",
       "      <td>1</td>\n",
       "      <td>0</td>\n",
       "      <td>0</td>\n",
       "      <td>1</td>\n",
       "    </tr>\n",
       "    <tr>\n",
       "      <th>14</th>\n",
       "      <td>old</td>\n",
       "      <td>False</td>\n",
       "      <td>n</td>\n",
       "      <td>fair</td>\n",
       "      <td>no</td>\n",
       "      <td>1</td>\n",
       "      <td>0</td>\n",
       "      <td>0</td>\n",
       "      <td>1</td>\n",
       "      <td>0</td>\n",
       "    </tr>\n",
       "    <tr>\n",
       "      <th>15</th>\n",
       "      <td>old</td>\n",
       "      <td>False</td>\n",
       "      <td>n</td>\n",
       "      <td>excellent</td>\n",
       "      <td>yes</td>\n",
       "      <td>1</td>\n",
       "      <td>0</td>\n",
       "      <td>0</td>\n",
       "      <td>0</td>\n",
       "      <td>1</td>\n",
       "    </tr>\n",
       "    <tr>\n",
       "      <th>16</th>\n",
       "      <td>young</td>\n",
       "      <td>True</td>\n",
       "      <td>y</td>\n",
       "      <td>fair</td>\n",
       "      <td>yes</td>\n",
       "      <td>2</td>\n",
       "      <td>1</td>\n",
       "      <td>1</td>\n",
       "      <td>1</td>\n",
       "      <td>1</td>\n",
       "    </tr>\n",
       "  </tbody>\n",
       "</table>\n",
       "</div>"
      ],
      "text/plain": [
       "       age  employed own_house     credit target  age_  employed_  own_house_  \\\n",
       "0    young     False         n       fair     no     2          0           0   \n",
       "1    young     False         n       good     no     2          0           0   \n",
       "2    young      True         n       good    yes     2          1           0   \n",
       "3    young      True         y       fair    yes     2          1           1   \n",
       "4    young     False         n       fair     no     2          0           0   \n",
       "5   middle     False         n       fair     no     0          0           0   \n",
       "6   middle     False         n       good     no     0          0           0   \n",
       "7   middle      True         y       good    yes     0          1           1   \n",
       "8   middle     False         y  excellent    yes     0          0           1   \n",
       "9   middle     False         y  excellent    yes     0          0           1   \n",
       "10     old     False         y  excellent    yes     1          0           1   \n",
       "11     old     False         y       good    yes     1          0           1   \n",
       "12     old      True         n       good    yes     1          1           0   \n",
       "13     old      True         n  excellent    yes     1          1           0   \n",
       "14     old     False         n       fair     no     1          0           0   \n",
       "15     old     False         n  excellent    yes     1          0           0   \n",
       "16   young      True         y       fair    yes     2          1           1   \n",
       "\n",
       "    credit_  target_  \n",
       "0         1        0  \n",
       "1         2        0  \n",
       "2         2        1  \n",
       "3         1        1  \n",
       "4         1        0  \n",
       "5         1        0  \n",
       "6         2        0  \n",
       "7         2        1  \n",
       "8         0        1  \n",
       "9         0        1  \n",
       "10        0        1  \n",
       "11        2        1  \n",
       "12        2        1  \n",
       "13        0        1  \n",
       "14        1        0  \n",
       "15        0        1  \n",
       "16        1        1  "
      ]
     },
     "execution_count": 52,
     "metadata": {},
     "output_type": "execute_result"
    }
   ],
   "source": [
    "df"
   ]
  },
  {
   "cell_type": "code",
   "execution_count": 53,
   "metadata": {},
   "outputs": [
    {
     "name": "stdout",
     "output_type": "stream",
     "text": [
      "[1 0 1 0]\n",
      "Result : yes\n",
      "Result : no\n",
      "Result : yes\n",
      "Result : no\n"
     ]
    }
   ],
   "source": [
    "#การทำนาย \n",
    "#ต้องใส่ Input ให้ตรงกับค่าที่เข้ารหัสไว้\n",
    "\n",
    "X_input = [[0,1,1,1], [1,0,0,2], [1,1,0,1], [2,0,1,1]]\n",
    "y_predict = model.predict(X_input)\n",
    "print(y_predict)\n",
    "\n",
    "for i in y_predict:\n",
    "    print('Result : {}'. format(class_names[i]))\n"
   ]
  },
  {
   "cell_type": "code",
   "execution_count": 54,
   "metadata": {},
   "outputs": [
    {
     "data": {
      "text/html": [
       "<div>\n",
       "<style scoped>\n",
       "    .dataframe tbody tr th:only-of-type {\n",
       "        vertical-align: middle;\n",
       "    }\n",
       "\n",
       "    .dataframe tbody tr th {\n",
       "        vertical-align: top;\n",
       "    }\n",
       "\n",
       "    .dataframe thead th {\n",
       "        text-align: right;\n",
       "    }\n",
       "</style>\n",
       "<table border=\"1\" class=\"dataframe\">\n",
       "  <thead>\n",
       "    <tr style=\"text-align: right;\">\n",
       "      <th></th>\n",
       "      <th>id</th>\n",
       "      <th>name</th>\n",
       "      <th>age</th>\n",
       "      <th>employed</th>\n",
       "      <th>own_house</th>\n",
       "      <th>credit</th>\n",
       "    </tr>\n",
       "  </thead>\n",
       "  <tbody>\n",
       "    <tr>\n",
       "      <th>0</th>\n",
       "      <td>101</td>\n",
       "      <td>Kob</td>\n",
       "      <td>middle</td>\n",
       "      <td>True</td>\n",
       "      <td>y</td>\n",
       "      <td>fair</td>\n",
       "    </tr>\n",
       "    <tr>\n",
       "      <th>1</th>\n",
       "      <td>102</td>\n",
       "      <td>Cala</td>\n",
       "      <td>old</td>\n",
       "      <td>False</td>\n",
       "      <td>n</td>\n",
       "      <td>good</td>\n",
       "    </tr>\n",
       "    <tr>\n",
       "      <th>2</th>\n",
       "      <td>103</td>\n",
       "      <td>Alex</td>\n",
       "      <td>old</td>\n",
       "      <td>True</td>\n",
       "      <td>n</td>\n",
       "      <td>fair</td>\n",
       "    </tr>\n",
       "    <tr>\n",
       "      <th>3</th>\n",
       "      <td>104</td>\n",
       "      <td>Tim</td>\n",
       "      <td>young</td>\n",
       "      <td>False</td>\n",
       "      <td>y</td>\n",
       "      <td>fair</td>\n",
       "    </tr>\n",
       "    <tr>\n",
       "      <th>4</th>\n",
       "      <td>105</td>\n",
       "      <td>Joy</td>\n",
       "      <td>middle</td>\n",
       "      <td>False</td>\n",
       "      <td>n</td>\n",
       "      <td>fair</td>\n",
       "    </tr>\n",
       "  </tbody>\n",
       "</table>\n",
       "</div>"
      ],
      "text/plain": [
       "    id  name     age  employed own_house credit\n",
       "0  101   Kob  middle      True         y   fair\n",
       "1  102  Cala     old     False         n   good\n",
       "2  103  Alex     old      True         n   fair\n",
       "3  104   Tim   young     False         y   fair\n",
       "4  105   Joy  middle     False         n   fair"
      ]
     },
     "execution_count": 54,
     "metadata": {},
     "output_type": "execute_result"
    }
   ],
   "source": [
    "#ใช้ข้อมูลจากไฟล์ CSV เป็น input\n",
    "#กรณีที่ข้อมูลมีมาก ข้อมูลที่เป็น input มักถูกเก็บไว้ในไฟล์เช่นไฟล์ CSV \n",
    "#โดยในไลฟ์จะมีเพียง Features(X) เท่านั้น เนื่องจากระบบจะทำนาย Target(y) ให้\n",
    "\n",
    "df_pred = pd.read_csv('data/simple_loan_predict.csv')\n",
    "df_pred.head()"
   ]
  },
  {
   "cell_type": "code",
   "execution_count": 55,
   "metadata": {},
   "outputs": [
    {
     "data": {
      "text/html": [
       "<div>\n",
       "<style scoped>\n",
       "    .dataframe tbody tr th:only-of-type {\n",
       "        vertical-align: middle;\n",
       "    }\n",
       "\n",
       "    .dataframe tbody tr th {\n",
       "        vertical-align: top;\n",
       "    }\n",
       "\n",
       "    .dataframe thead th {\n",
       "        text-align: right;\n",
       "    }\n",
       "</style>\n",
       "<table border=\"1\" class=\"dataframe\">\n",
       "  <thead>\n",
       "    <tr style=\"text-align: right;\">\n",
       "      <th></th>\n",
       "      <th>id</th>\n",
       "      <th>age</th>\n",
       "      <th>employed</th>\n",
       "      <th>own_house</th>\n",
       "      <th>credit</th>\n",
       "    </tr>\n",
       "  </thead>\n",
       "  <tbody>\n",
       "    <tr>\n",
       "      <th>0</th>\n",
       "      <td>101</td>\n",
       "      <td>middle</td>\n",
       "      <td>True</td>\n",
       "      <td>y</td>\n",
       "      <td>fair</td>\n",
       "    </tr>\n",
       "    <tr>\n",
       "      <th>1</th>\n",
       "      <td>102</td>\n",
       "      <td>old</td>\n",
       "      <td>False</td>\n",
       "      <td>n</td>\n",
       "      <td>good</td>\n",
       "    </tr>\n",
       "    <tr>\n",
       "      <th>2</th>\n",
       "      <td>103</td>\n",
       "      <td>old</td>\n",
       "      <td>True</td>\n",
       "      <td>n</td>\n",
       "      <td>fair</td>\n",
       "    </tr>\n",
       "    <tr>\n",
       "      <th>3</th>\n",
       "      <td>104</td>\n",
       "      <td>young</td>\n",
       "      <td>False</td>\n",
       "      <td>y</td>\n",
       "      <td>fair</td>\n",
       "    </tr>\n",
       "    <tr>\n",
       "      <th>4</th>\n",
       "      <td>105</td>\n",
       "      <td>middle</td>\n",
       "      <td>False</td>\n",
       "      <td>n</td>\n",
       "      <td>fair</td>\n",
       "    </tr>\n",
       "  </tbody>\n",
       "</table>\n",
       "</div>"
      ],
      "text/plain": [
       "    id     age  employed own_house credit\n",
       "0  101  middle      True         y   fair\n",
       "1  102     old     False         n   good\n",
       "2  103     old      True         n   fair\n",
       "3  104   young     False         y   fair\n",
       "4  105  middle     False         n   fair"
      ]
     },
     "execution_count": 55,
     "metadata": {},
     "output_type": "execute_result"
    }
   ],
   "source": [
    "#ระบุเฉพาะคอลัมน์ที่ต้องการ\n",
    "cols = ['id','age','employed','own_house','credit']\n",
    "df_pred = pd.read_csv('data/simple_loan_predict.csv', usecols=cols)\n",
    "df_pred.head()"
   ]
  },
  {
   "cell_type": "code",
   "execution_count": 56,
   "metadata": {},
   "outputs": [
    {
     "data": {
      "text/html": [
       "<div>\n",
       "<style scoped>\n",
       "    .dataframe tbody tr th:only-of-type {\n",
       "        vertical-align: middle;\n",
       "    }\n",
       "\n",
       "    .dataframe tbody tr th {\n",
       "        vertical-align: top;\n",
       "    }\n",
       "\n",
       "    .dataframe thead th {\n",
       "        text-align: right;\n",
       "    }\n",
       "</style>\n",
       "<table border=\"1\" class=\"dataframe\">\n",
       "  <thead>\n",
       "    <tr style=\"text-align: right;\">\n",
       "      <th></th>\n",
       "      <th>id</th>\n",
       "      <th>age</th>\n",
       "      <th>employed</th>\n",
       "      <th>own_house</th>\n",
       "      <th>credit</th>\n",
       "      <th>age_</th>\n",
       "      <th>employed_</th>\n",
       "      <th>own_house_</th>\n",
       "      <th>credit_</th>\n",
       "    </tr>\n",
       "  </thead>\n",
       "  <tbody>\n",
       "    <tr>\n",
       "      <th>0</th>\n",
       "      <td>101</td>\n",
       "      <td>middle</td>\n",
       "      <td>True</td>\n",
       "      <td>y</td>\n",
       "      <td>fair</td>\n",
       "      <td>0</td>\n",
       "      <td>1</td>\n",
       "      <td>1</td>\n",
       "      <td>1</td>\n",
       "    </tr>\n",
       "    <tr>\n",
       "      <th>1</th>\n",
       "      <td>102</td>\n",
       "      <td>old</td>\n",
       "      <td>False</td>\n",
       "      <td>n</td>\n",
       "      <td>good</td>\n",
       "      <td>1</td>\n",
       "      <td>0</td>\n",
       "      <td>0</td>\n",
       "      <td>2</td>\n",
       "    </tr>\n",
       "    <tr>\n",
       "      <th>2</th>\n",
       "      <td>103</td>\n",
       "      <td>old</td>\n",
       "      <td>True</td>\n",
       "      <td>n</td>\n",
       "      <td>fair</td>\n",
       "      <td>1</td>\n",
       "      <td>1</td>\n",
       "      <td>0</td>\n",
       "      <td>1</td>\n",
       "    </tr>\n",
       "    <tr>\n",
       "      <th>3</th>\n",
       "      <td>104</td>\n",
       "      <td>young</td>\n",
       "      <td>False</td>\n",
       "      <td>y</td>\n",
       "      <td>fair</td>\n",
       "      <td>2</td>\n",
       "      <td>0</td>\n",
       "      <td>1</td>\n",
       "      <td>1</td>\n",
       "    </tr>\n",
       "    <tr>\n",
       "      <th>4</th>\n",
       "      <td>105</td>\n",
       "      <td>middle</td>\n",
       "      <td>False</td>\n",
       "      <td>n</td>\n",
       "      <td>fair</td>\n",
       "      <td>0</td>\n",
       "      <td>0</td>\n",
       "      <td>0</td>\n",
       "      <td>1</td>\n",
       "    </tr>\n",
       "  </tbody>\n",
       "</table>\n",
       "</div>"
      ],
      "text/plain": [
       "    id     age  employed own_house credit  age_  employed_  own_house_  \\\n",
       "0  101  middle      True         y   fair     0          1           1   \n",
       "1  102     old     False         n   good     1          0           0   \n",
       "2  103     old      True         n   fair     1          1           0   \n",
       "3  104   young     False         y   fair     2          0           1   \n",
       "4  105  middle     False         n   fair     0          0           0   \n",
       "\n",
       "   credit_  \n",
       "0        1  \n",
       "1        2  \n",
       "2        1  \n",
       "3        1  \n",
       "4        1  "
      ]
     },
     "execution_count": 56,
     "metadata": {},
     "output_type": "execute_result"
    }
   ],
   "source": [
    "feature_columns = ['age', 'employed', 'own_house', 'credit']\n",
    "labelEncode(df_pred, feature_columns)\n",
    "df_pred.head()"
   ]
  },
  {
   "cell_type": "code",
   "execution_count": 57,
   "metadata": {},
   "outputs": [
    {
     "data": {
      "text/html": [
       "<div>\n",
       "<style scoped>\n",
       "    .dataframe tbody tr th:only-of-type {\n",
       "        vertical-align: middle;\n",
       "    }\n",
       "\n",
       "    .dataframe tbody tr th {\n",
       "        vertical-align: top;\n",
       "    }\n",
       "\n",
       "    .dataframe thead th {\n",
       "        text-align: right;\n",
       "    }\n",
       "</style>\n",
       "<table border=\"1\" class=\"dataframe\">\n",
       "  <thead>\n",
       "    <tr style=\"text-align: right;\">\n",
       "      <th></th>\n",
       "      <th>age_</th>\n",
       "      <th>employed_</th>\n",
       "      <th>own_house_</th>\n",
       "      <th>credit_</th>\n",
       "    </tr>\n",
       "  </thead>\n",
       "  <tbody>\n",
       "    <tr>\n",
       "      <th>0</th>\n",
       "      <td>0</td>\n",
       "      <td>1</td>\n",
       "      <td>1</td>\n",
       "      <td>1</td>\n",
       "    </tr>\n",
       "    <tr>\n",
       "      <th>1</th>\n",
       "      <td>1</td>\n",
       "      <td>0</td>\n",
       "      <td>0</td>\n",
       "      <td>2</td>\n",
       "    </tr>\n",
       "    <tr>\n",
       "      <th>2</th>\n",
       "      <td>1</td>\n",
       "      <td>1</td>\n",
       "      <td>0</td>\n",
       "      <td>1</td>\n",
       "    </tr>\n",
       "    <tr>\n",
       "      <th>3</th>\n",
       "      <td>2</td>\n",
       "      <td>0</td>\n",
       "      <td>1</td>\n",
       "      <td>1</td>\n",
       "    </tr>\n",
       "    <tr>\n",
       "      <th>4</th>\n",
       "      <td>0</td>\n",
       "      <td>0</td>\n",
       "      <td>0</td>\n",
       "      <td>1</td>\n",
       "    </tr>\n",
       "  </tbody>\n",
       "</table>\n",
       "</div>"
      ],
      "text/plain": [
       "   age_  employed_  own_house_  credit_\n",
       "0     0          1           1        1\n",
       "1     1          0           0        2\n",
       "2     1          1           0        1\n",
       "3     2          0           1        1\n",
       "4     0          0           0        1"
      ]
     },
     "execution_count": 57,
     "metadata": {},
     "output_type": "execute_result"
    }
   ],
   "source": [
    "enc_columns = ['age_', 'employed_', 'own_house_', 'credit_']\n",
    "X_input = df_pred[enc_columns] \n",
    "X_input.head()"
   ]
  },
  {
   "cell_type": "code",
   "execution_count": 58,
   "metadata": {},
   "outputs": [
    {
     "data": {
      "text/html": [
       "<div>\n",
       "<style scoped>\n",
       "    .dataframe tbody tr th:only-of-type {\n",
       "        vertical-align: middle;\n",
       "    }\n",
       "\n",
       "    .dataframe tbody tr th {\n",
       "        vertical-align: top;\n",
       "    }\n",
       "\n",
       "    .dataframe thead th {\n",
       "        text-align: right;\n",
       "    }\n",
       "</style>\n",
       "<table border=\"1\" class=\"dataframe\">\n",
       "  <thead>\n",
       "    <tr style=\"text-align: right;\">\n",
       "      <th></th>\n",
       "      <th>id</th>\n",
       "      <th>age</th>\n",
       "      <th>employed</th>\n",
       "      <th>own_house</th>\n",
       "      <th>credit</th>\n",
       "      <th>age_</th>\n",
       "      <th>employed_</th>\n",
       "      <th>own_house_</th>\n",
       "      <th>credit_</th>\n",
       "      <th>predict</th>\n",
       "    </tr>\n",
       "  </thead>\n",
       "  <tbody>\n",
       "    <tr>\n",
       "      <th>0</th>\n",
       "      <td>101</td>\n",
       "      <td>middle</td>\n",
       "      <td>True</td>\n",
       "      <td>y</td>\n",
       "      <td>fair</td>\n",
       "      <td>0</td>\n",
       "      <td>1</td>\n",
       "      <td>1</td>\n",
       "      <td>1</td>\n",
       "      <td>1</td>\n",
       "    </tr>\n",
       "    <tr>\n",
       "      <th>1</th>\n",
       "      <td>102</td>\n",
       "      <td>old</td>\n",
       "      <td>False</td>\n",
       "      <td>n</td>\n",
       "      <td>good</td>\n",
       "      <td>1</td>\n",
       "      <td>0</td>\n",
       "      <td>0</td>\n",
       "      <td>2</td>\n",
       "      <td>0</td>\n",
       "    </tr>\n",
       "    <tr>\n",
       "      <th>2</th>\n",
       "      <td>103</td>\n",
       "      <td>old</td>\n",
       "      <td>True</td>\n",
       "      <td>n</td>\n",
       "      <td>fair</td>\n",
       "      <td>1</td>\n",
       "      <td>1</td>\n",
       "      <td>0</td>\n",
       "      <td>1</td>\n",
       "      <td>1</td>\n",
       "    </tr>\n",
       "    <tr>\n",
       "      <th>3</th>\n",
       "      <td>104</td>\n",
       "      <td>young</td>\n",
       "      <td>False</td>\n",
       "      <td>y</td>\n",
       "      <td>fair</td>\n",
       "      <td>2</td>\n",
       "      <td>0</td>\n",
       "      <td>1</td>\n",
       "      <td>1</td>\n",
       "      <td>0</td>\n",
       "    </tr>\n",
       "    <tr>\n",
       "      <th>4</th>\n",
       "      <td>105</td>\n",
       "      <td>middle</td>\n",
       "      <td>False</td>\n",
       "      <td>n</td>\n",
       "      <td>fair</td>\n",
       "      <td>0</td>\n",
       "      <td>0</td>\n",
       "      <td>0</td>\n",
       "      <td>1</td>\n",
       "      <td>0</td>\n",
       "    </tr>\n",
       "    <tr>\n",
       "      <th>5</th>\n",
       "      <td>106</td>\n",
       "      <td>middle</td>\n",
       "      <td>False</td>\n",
       "      <td>y</td>\n",
       "      <td>excellent</td>\n",
       "      <td>0</td>\n",
       "      <td>0</td>\n",
       "      <td>1</td>\n",
       "      <td>0</td>\n",
       "      <td>1</td>\n",
       "    </tr>\n",
       "  </tbody>\n",
       "</table>\n",
       "</div>"
      ],
      "text/plain": [
       "    id     age  employed own_house     credit  age_  employed_  own_house_  \\\n",
       "0  101  middle      True         y       fair     0          1           1   \n",
       "1  102     old     False         n       good     1          0           0   \n",
       "2  103     old      True         n       fair     1          1           0   \n",
       "3  104   young     False         y       fair     2          0           1   \n",
       "4  105  middle     False         n       fair     0          0           0   \n",
       "5  106  middle     False         y  excellent     0          0           1   \n",
       "\n",
       "   credit_  predict  \n",
       "0        1        1  \n",
       "1        2        0  \n",
       "2        1        1  \n",
       "3        1        0  \n",
       "4        1        0  \n",
       "5        0        1  "
      ]
     },
     "execution_count": 58,
     "metadata": {},
     "output_type": "execute_result"
    }
   ],
   "source": [
    "#สั่งให้ระบบทำนาย\n",
    "\n",
    "y_predict = model.predict(X_input)\n",
    "df_pred['predict'] = y_predict\n",
    "df_pred"
   ]
  },
  {
   "cell_type": "code",
   "execution_count": 61,
   "metadata": {},
   "outputs": [
    {
     "name": "stdout",
     "output_type": "stream",
     "text": [
      "Result...\n"
     ]
    },
    {
     "data": {
      "text/html": [
       "<div>\n",
       "<style scoped>\n",
       "    .dataframe tbody tr th:only-of-type {\n",
       "        vertical-align: middle;\n",
       "    }\n",
       "\n",
       "    .dataframe tbody tr th {\n",
       "        vertical-align: top;\n",
       "    }\n",
       "\n",
       "    .dataframe thead th {\n",
       "        text-align: right;\n",
       "    }\n",
       "</style>\n",
       "<table border=\"1\" class=\"dataframe\">\n",
       "  <thead>\n",
       "    <tr style=\"text-align: right;\">\n",
       "      <th></th>\n",
       "      <th>id</th>\n",
       "      <th>age</th>\n",
       "      <th>employed</th>\n",
       "      <th>own_house</th>\n",
       "      <th>credit</th>\n",
       "      <th>result</th>\n",
       "    </tr>\n",
       "  </thead>\n",
       "  <tbody>\n",
       "    <tr>\n",
       "      <th>0</th>\n",
       "      <td>101</td>\n",
       "      <td>middle</td>\n",
       "      <td>True</td>\n",
       "      <td>y</td>\n",
       "      <td>fair</td>\n",
       "      <td>yes</td>\n",
       "    </tr>\n",
       "    <tr>\n",
       "      <th>1</th>\n",
       "      <td>102</td>\n",
       "      <td>old</td>\n",
       "      <td>False</td>\n",
       "      <td>n</td>\n",
       "      <td>good</td>\n",
       "      <td>no</td>\n",
       "    </tr>\n",
       "    <tr>\n",
       "      <th>2</th>\n",
       "      <td>103</td>\n",
       "      <td>old</td>\n",
       "      <td>True</td>\n",
       "      <td>n</td>\n",
       "      <td>fair</td>\n",
       "      <td>yes</td>\n",
       "    </tr>\n",
       "    <tr>\n",
       "      <th>3</th>\n",
       "      <td>104</td>\n",
       "      <td>young</td>\n",
       "      <td>False</td>\n",
       "      <td>y</td>\n",
       "      <td>fair</td>\n",
       "      <td>no</td>\n",
       "    </tr>\n",
       "    <tr>\n",
       "      <th>4</th>\n",
       "      <td>105</td>\n",
       "      <td>middle</td>\n",
       "      <td>False</td>\n",
       "      <td>n</td>\n",
       "      <td>fair</td>\n",
       "      <td>no</td>\n",
       "    </tr>\n",
       "    <tr>\n",
       "      <th>5</th>\n",
       "      <td>106</td>\n",
       "      <td>middle</td>\n",
       "      <td>False</td>\n",
       "      <td>y</td>\n",
       "      <td>excellent</td>\n",
       "      <td>yes</td>\n",
       "    </tr>\n",
       "  </tbody>\n",
       "</table>\n",
       "</div>"
      ],
      "text/plain": [
       "    id     age  employed own_house     credit result\n",
       "0  101  middle      True         y       fair    yes\n",
       "1  102     old     False         n       good     no\n",
       "2  103     old      True         n       fair    yes\n",
       "3  104   young     False         y       fair     no\n",
       "4  105  middle     False         n       fair     no\n",
       "5  106  middle     False         y  excellent    yes"
      ]
     },
     "execution_count": 61,
     "metadata": {},
     "output_type": "execute_result"
    }
   ],
   "source": [
    "#แสดงเฉพาะส่วนที่จำเป็น\n",
    "df_pred['result'] = class_names[df_pred.predict]\n",
    "columns = ['id','age','employed','own_house','credit','result']\n",
    "print('Result...')\n",
    "df_pred[columns]"
   ]
  },
  {
   "cell_type": "raw",
   "metadata": {},
   "source": [
    "บันทึกเก็บเป็นไฟล์ CSV หรือ Excel เพื่อนำไปใช้ต่อได้\n",
    "\n",
    "excel\n",
    "filepath = 'loan_result.xlsx'\n",
    "writer = pd.ExcelWriter(filepath)\n",
    "df_pred[columns].to_excel(writer, 'MySheet1', index=False)\n",
    "writer.save()"
   ]
  },
  {
   "cell_type": "raw",
   "metadata": {},
   "source": [
    "ความแปรปรวนผลการประเมิน\n",
    "การแบ่งข้อมูลสำหรับ train และ test แต่ละครั้งจะได้ข้อมูลแตกต่างกัน ทำให้การประเมินแต่ละครั้งได้ค่าประสิทธิภาพที่แตกต่างกัน"
   ]
  },
  {
   "cell_type": "code",
   "execution_count": 62,
   "metadata": {},
   "outputs": [
    {
     "data": {
      "text/plain": [
       "1.0"
      ]
     },
     "execution_count": 62,
     "metadata": {},
     "output_type": "execute_result"
    }
   ],
   "source": [
    "#train โดยไม่กำหนด random_state (หรือกำหนดให้แตกต่างกัน เพื่อให้การสุ่มไม่ซ้ำกัน)\n",
    "\n",
    "X_train, X_test, y_train, y_test = train_test_split(X, y, test_size=0.3)\n",
    "model = DecisionTreeClassifier(max_depth=2)\n",
    "model.fit(X_train, y_train)\n",
    "model.score(X_test, y_test)"
   ]
  },
  {
   "cell_type": "code",
   "execution_count": 63,
   "metadata": {},
   "outputs": [
    {
     "data": {
      "text/plain": [
       "1.0"
      ]
     },
     "execution_count": 63,
     "metadata": {},
     "output_type": "execute_result"
    }
   ],
   "source": [
    "X_train, X_test, y_train, y_test = train_test_split(X, y, test_size=0.3)\n",
    "model = DecisionTreeClassifier(max_depth=2)\n",
    "model.fit(X_train, y_train)\n",
    "model.score(X_test, y_test)"
   ]
  },
  {
   "cell_type": "code",
   "execution_count": 64,
   "metadata": {},
   "outputs": [
    {
     "data": {
      "text/plain": [
       "0.8333333333333334"
      ]
     },
     "execution_count": 64,
     "metadata": {},
     "output_type": "execute_result"
    }
   ],
   "source": [
    "X_train, X_test, y_train, y_test = train_test_split(X, y, test_size=0.3)\n",
    "model = DecisionTreeClassifier(max_depth=2)\n",
    "model.fit(X_train, y_train)\n",
    "model.score(X_test, y_test)"
   ]
  },
  {
   "cell_type": "code",
   "execution_count": 65,
   "metadata": {},
   "outputs": [
    {
     "data": {
      "text/plain": [
       "1.0"
      ]
     },
     "execution_count": 65,
     "metadata": {},
     "output_type": "execute_result"
    }
   ],
   "source": [
    "X_train, X_test, y_train, y_test = train_test_split(X, y, test_size=0.3)\n",
    "model = DecisionTreeClassifier(max_depth=2)\n",
    "model.fit(X_train, y_train)\n",
    "model.score(X_test, y_test)"
   ]
  },
  {
   "cell_type": "raw",
   "metadata": {},
   "source": [
    "ลองหลาย ๆ ครั้ง สังเกตได้ว่าความแม่นยำแตกต่างกัน \n",
    "เรียกว่า High variance(ความแปรปรวนสูง) คือมีความแตกต่างผลการประเมินเมื่อสลับเปลี่ยนชุดข้อมูล train และ test"
   ]
  },
  {
   "cell_type": "raw",
   "metadata": {},
   "source": [
    "Cross Validation\n",
    "จากปัญหาเมื่อกี้ แล้วเราจะใช้ค่าประสิทธิภาพตัวไหนดี \n",
    "\n",
    "Cross Validation เป็นการแบ่งชุดข้อมูลออกเป็นส่วน ๆ แต่ละส่วนมีข้อมูลเท่า ๆ กัน\n",
    "เช่น 5 ส่วน เรียกว่า 5-fold Cross-validation\n",
    "\n",
    "จากนั้นก็ทำการ train และ test โดยนำ 1 ส่วนไปเป็นตัว test ที่เหลือ 4 ส่วนเป็นตัว train\n",
    "เวียนกันทำให้ทุกส่วนได้เป็นตัว test (5-fold ก็คือทำ 5 ครั้ง)\n",
    "\n",
    "มันถึงเรียกว่า k-fold ค่า k คือตัวเลขแบ่งส่วน จะเป็นเท่าไรก็ได้ (เช่น 10-fold ก็คือ 10 ส่วน)"
   ]
  },
  {
   "cell_type": "code",
   "execution_count": 69,
   "metadata": {},
   "outputs": [
    {
     "data": {
      "text/plain": [
       "KFold(n_splits=5, random_state=None, shuffle=False)"
      ]
     },
     "execution_count": 69,
     "metadata": {},
     "output_type": "execute_result"
    }
   ],
   "source": [
    "#การแบ่ง K-fold\n",
    "\n",
    "from sklearn.model_selection import KFold\n",
    "\n",
    "kf = KFold(n_splits=5)\n",
    "kf"
   ]
  },
  {
   "cell_type": "code",
   "execution_count": 70,
   "metadata": {},
   "outputs": [
    {
     "name": "stdout",
     "output_type": "stream",
     "text": [
      "[ 4  5  6  7  8  9 10 11 12 13 14 15 16] [0 1 2 3]\n",
      "[ 0  1  2  3  8  9 10 11 12 13 14 15 16] [4 5 6 7]\n",
      "[ 0  1  2  3  4  5  6  7 11 12 13 14 15 16] [ 8  9 10]\n",
      "[ 0  1  2  3  4  5  6  7  8  9 10 14 15 16] [11 12 13]\n",
      "[ 0  1  2  3  4  5  6  7  8  9 10 11 12 13] [14 15 16]\n"
     ]
    }
   ],
   "source": [
    "for train_index, test_index in kf.split(X):       #แสดง index รายการข้อมูล ในการแบ่งแต่ละรอบ\n",
    "    print(train_index, test_index)"
   ]
  },
  {
   "cell_type": "raw",
   "metadata": {},
   "source": [
    "จะได้ item หรือ index แสดงตำแหน่งในการแบ่งข้อมูลในแต่ละรอบ เช่น\n",
    "\n",
    "รอบ 1: ข้อมูลลำดับ index 0-1-2-3 ถูกแบ่งไปเป็นตัวtest ที่เหลือเป็นตัว train\n",
    "รอบ 2: ข้อมูลลำดับ index 4-5-6-7 ถูกแบ่งไปเป็นตัวtest ที่เหลือเป็นตัว train\n",
    "ไล่ไปเรื่อย ๆ จนครบ 5 รอบ (5ส่วน)"
   ]
  },
  {
   "cell_type": "code",
   "execution_count": 72,
   "metadata": {},
   "outputs": [
    {
     "data": {
      "text/plain": [
       "KFold(n_splits=2, random_state=None, shuffle=False)"
      ]
     },
     "execution_count": 72,
     "metadata": {},
     "output_type": "execute_result"
    }
   ],
   "source": [
    "#ลองแบบ 2-fold\n",
    "\n",
    "kf = KFold(n_splits=2)\n",
    "kf"
   ]
  },
  {
   "cell_type": "code",
   "execution_count": 73,
   "metadata": {},
   "outputs": [
    {
     "name": "stdout",
     "output_type": "stream",
     "text": [
      "[ 9 10 11 12 13 14 15 16] [0 1 2 3 4 5 6 7 8]\n",
      "[0 1 2 3 4 5 6 7 8] [ 9 10 11 12 13 14 15 16]\n"
     ]
    }
   ],
   "source": [
    "for train_index, test_index in kf.split(X):       #แสดง index รายการข้อมูล ในการแบ่งแต่ละรอบ\n",
    "    print(train_index, test_index)"
   ]
  },
  {
   "cell_type": "code",
   "execution_count": 74,
   "metadata": {},
   "outputs": [
    {
     "data": {
      "text/plain": [
       "array([1.        , 1.        , 0.66666667, 1.        , 0.66666667])"
      ]
     },
     "execution_count": 74,
     "metadata": {},
     "output_type": "execute_result"
    }
   ],
   "source": [
    "#5-Fold Cross validation\n",
    "\n",
    "from sklearn.model_selection import cross_val_score   \n",
    "\n",
    "model = DecisionTreeClassifier(max_depth=3)   #กรณีกำหนด parameters\n",
    "\n",
    "cvs = cross_val_score(model, X, y, cv=5)      #cross_val_score ไม่ต้องรัน .fit()\n",
    "cvs"
   ]
  },
  {
   "cell_type": "code",
   "execution_count": 75,
   "metadata": {},
   "outputs": [],
   "source": [
    "#จะได้ค่า Score 5 ค่า ของแต่ละรอบ ตาม array ข้างบน"
   ]
  },
  {
   "cell_type": "code",
   "execution_count": 76,
   "metadata": {},
   "outputs": [
    {
     "data": {
      "text/plain": [
       "0.8667"
      ]
     },
     "execution_count": 76,
     "metadata": {},
     "output_type": "execute_result"
    }
   ],
   "source": [
    "#นำมาหาค่าเฉลี่ย \n",
    "\n",
    "cvs.mean().round(4)"
   ]
  },
  {
   "cell_type": "code",
   "execution_count": 77,
   "metadata": {},
   "outputs": [],
   "source": [
    "#ได้ประสิทธิภาพเฉลี่ย 0.8667 หรือ 86.67%"
   ]
  },
  {
   "cell_type": "code",
   "execution_count": null,
   "metadata": {},
   "outputs": [],
   "source": [
    "#ลองสร้าง Model ที่ max_depth (parameter) แตกต่างกัน แล้วรันใหม่ \n",
    "#จะได้ค่าประสิทธิภาพเฉลี่ยที่ต่างกัน แสดงว่า ค่าพารามิเตอร์มีผลกับประสิทธิภาพ model"
   ]
  }
 ],
 "metadata": {
  "kernelspec": {
   "display_name": "Python 3",
   "language": "python",
   "name": "python3"
  },
  "language_info": {
   "codemirror_mode": {
    "name": "ipython",
    "version": 3
   },
   "file_extension": ".py",
   "mimetype": "text/x-python",
   "name": "python",
   "nbconvert_exporter": "python",
   "pygments_lexer": "ipython3",
   "version": "3.8.5"
  }
 },
 "nbformat": 4,
 "nbformat_minor": 4
}
